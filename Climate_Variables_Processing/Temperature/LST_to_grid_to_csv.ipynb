{
 "cells": [
  {
   "cell_type": "code",
   "execution_count": 1,
   "metadata": {},
   "outputs": [],
   "source": [
    "import os\n",
    "import numpy as np\n",
    "import shutil\n",
    "import glob\n",
    "import rioxarray\n",
    "import polars as pl\n",
    "import os\n",
    "import numpy as np\n",
    "import sys\n",
    "sys.path.append(r\"C:\\Users\\JoaoPereira\\Desktop\\pygeo\\Geospatial-Ops\")\n",
    "import aux_functions as af\n",
    "import importlib\n",
    "importlib.reload(af)\n",
    "from datetime import datetime\n"
   ]
  },
  {
   "cell_type": "code",
   "execution_count": 22,
   "metadata": {},
   "outputs": [],
   "source": [
    "input_dir = r\"E:\\Spotlite_JPereira\\LST_DB\\2017-jan2024\"\n",
    "output_dir = \"E:\\Spotlite_JPereira\\EGIS\\EROP\\A24\\Extensao\\LST\"\n",
    "aoi_shapefile = r\"E:\\Spotlite_JPereira\\EGIS\\EROP\\A24\\Extensao\\A24_buffer_5km_wgs84.geojson\"\n",
    "folder_type = \"MEDIAN\"\n",
    "directory = input_dir"
   ]
  },
  {
   "cell_type": "code",
   "execution_count": 4,
   "metadata": {},
   "outputs": [
    {
     "ename": "KeyboardInterrupt",
     "evalue": "",
     "output_type": "error",
     "traceback": [
      "\u001b[1;31m---------------------------------------------------------------------------\u001b[0m",
      "\u001b[1;31mKeyboardInterrupt\u001b[0m                         Traceback (most recent call last)",
      "Cell \u001b[1;32mIn[4], line 19\u001b[0m\n\u001b[0;32m     17\u001b[0m     \u001b[38;5;28;01mif\u001b[39;00m file\u001b[38;5;241m.\u001b[39mstartswith(\u001b[38;5;124m'\u001b[39m\u001b[38;5;124mc_gls_LST10\u001b[39m\u001b[38;5;124m'\u001b[39m) \u001b[38;5;129;01mand\u001b[39;00m file\u001b[38;5;241m.\u001b[39mendswith(\u001b[38;5;124m'\u001b[39m\u001b[38;5;124m.zip\u001b[39m\u001b[38;5;124m'\u001b[39m):\n\u001b[0;32m     18\u001b[0m         zip_file_path \u001b[38;5;241m=\u001b[39m os\u001b[38;5;241m.\u001b[39mpath\u001b[38;5;241m.\u001b[39mjoin(new_folder_path, file)\n\u001b[1;32m---> 19\u001b[0m         \u001b[43mshutil\u001b[49m\u001b[38;5;241;43m.\u001b[39;49m\u001b[43munpack_archive\u001b[49m\u001b[43m(\u001b[49m\u001b[43mzip_file_path\u001b[49m\u001b[43m,\u001b[49m\u001b[43m \u001b[49m\u001b[43mextract_dir\u001b[49m\u001b[38;5;241;43m=\u001b[39;49m\u001b[43mnew_folder_path\u001b[49m\u001b[43m)\u001b[49m\n\u001b[0;32m     21\u001b[0m \u001b[38;5;66;03m# find the folder with only the date\u001b[39;00m\n\u001b[0;32m     22\u001b[0m \u001b[38;5;28;01mfor\u001b[39;00m inner_folder \u001b[38;5;129;01min\u001b[39;00m os\u001b[38;5;241m.\u001b[39mlistdir(new_folder_path):\n",
      "File \u001b[1;32mc:\\Users\\JoaoPereira\\AppData\\Local\\Programs\\Python\\Python310\\lib\\shutil.py:1306\u001b[0m, in \u001b[0;36munpack_archive\u001b[1;34m(filename, extract_dir, format)\u001b[0m\n\u001b[0;32m   1304\u001b[0m func \u001b[38;5;241m=\u001b[39m _UNPACK_FORMATS[\u001b[38;5;28mformat\u001b[39m][\u001b[38;5;241m1\u001b[39m]\n\u001b[0;32m   1305\u001b[0m kwargs \u001b[38;5;241m=\u001b[39m \u001b[38;5;28mdict\u001b[39m(_UNPACK_FORMATS[\u001b[38;5;28mformat\u001b[39m][\u001b[38;5;241m2\u001b[39m])\n\u001b[1;32m-> 1306\u001b[0m func(filename, extract_dir, \u001b[38;5;241m*\u001b[39m\u001b[38;5;241m*\u001b[39mkwargs)\n",
      "File \u001b[1;32mc:\\Users\\JoaoPereira\\AppData\\Local\\Programs\\Python\\Python310\\lib\\shutil.py:1220\u001b[0m, in \u001b[0;36m_unpack_zipfile\u001b[1;34m(filename, extract_dir)\u001b[0m\n\u001b[0;32m   1216\u001b[0m         \u001b[38;5;28;01mif\u001b[39;00m \u001b[38;5;129;01mnot\u001b[39;00m name\u001b[38;5;241m.\u001b[39mendswith(\u001b[38;5;124m'\u001b[39m\u001b[38;5;124m/\u001b[39m\u001b[38;5;124m'\u001b[39m):\n\u001b[0;32m   1217\u001b[0m             \u001b[38;5;66;03m# file\u001b[39;00m\n\u001b[0;32m   1218\u001b[0m             \u001b[38;5;28;01mwith\u001b[39;00m \u001b[38;5;28mzip\u001b[39m\u001b[38;5;241m.\u001b[39mopen(name, \u001b[38;5;124m'\u001b[39m\u001b[38;5;124mr\u001b[39m\u001b[38;5;124m'\u001b[39m) \u001b[38;5;28;01mas\u001b[39;00m source, \\\n\u001b[0;32m   1219\u001b[0m                     \u001b[38;5;28mopen\u001b[39m(targetpath, \u001b[38;5;124m'\u001b[39m\u001b[38;5;124mwb\u001b[39m\u001b[38;5;124m'\u001b[39m) \u001b[38;5;28;01mas\u001b[39;00m target:\n\u001b[1;32m-> 1220\u001b[0m                 \u001b[43mcopyfileobj\u001b[49m\u001b[43m(\u001b[49m\u001b[43msource\u001b[49m\u001b[43m,\u001b[49m\u001b[43m \u001b[49m\u001b[43mtarget\u001b[49m\u001b[43m)\u001b[49m\n\u001b[0;32m   1221\u001b[0m \u001b[38;5;28;01mfinally\u001b[39;00m:\n\u001b[0;32m   1222\u001b[0m     \u001b[38;5;28mzip\u001b[39m\u001b[38;5;241m.\u001b[39mclose()\n",
      "File \u001b[1;32mc:\\Users\\JoaoPereira\\AppData\\Local\\Programs\\Python\\Python310\\lib\\shutil.py:195\u001b[0m, in \u001b[0;36mcopyfileobj\u001b[1;34m(fsrc, fdst, length)\u001b[0m\n\u001b[0;32m    193\u001b[0m fdst_write \u001b[38;5;241m=\u001b[39m fdst\u001b[38;5;241m.\u001b[39mwrite\n\u001b[0;32m    194\u001b[0m \u001b[38;5;28;01mwhile\u001b[39;00m \u001b[38;5;28;01mTrue\u001b[39;00m:\n\u001b[1;32m--> 195\u001b[0m     buf \u001b[38;5;241m=\u001b[39m \u001b[43mfsrc_read\u001b[49m\u001b[43m(\u001b[49m\u001b[43mlength\u001b[49m\u001b[43m)\u001b[49m\n\u001b[0;32m    196\u001b[0m     \u001b[38;5;28;01mif\u001b[39;00m \u001b[38;5;129;01mnot\u001b[39;00m buf:\n\u001b[0;32m    197\u001b[0m         \u001b[38;5;28;01mbreak\u001b[39;00m\n",
      "File \u001b[1;32mc:\\Users\\JoaoPereira\\AppData\\Local\\Programs\\Python\\Python310\\lib\\zipfile.py:925\u001b[0m, in \u001b[0;36mZipExtFile.read\u001b[1;34m(self, n)\u001b[0m\n\u001b[0;32m    923\u001b[0m \u001b[38;5;28mself\u001b[39m\u001b[38;5;241m.\u001b[39m_offset \u001b[38;5;241m=\u001b[39m \u001b[38;5;241m0\u001b[39m\n\u001b[0;32m    924\u001b[0m \u001b[38;5;28;01mwhile\u001b[39;00m n \u001b[38;5;241m>\u001b[39m \u001b[38;5;241m0\u001b[39m \u001b[38;5;129;01mand\u001b[39;00m \u001b[38;5;129;01mnot\u001b[39;00m \u001b[38;5;28mself\u001b[39m\u001b[38;5;241m.\u001b[39m_eof:\n\u001b[1;32m--> 925\u001b[0m     data \u001b[38;5;241m=\u001b[39m \u001b[38;5;28;43mself\u001b[39;49m\u001b[38;5;241;43m.\u001b[39;49m\u001b[43m_read1\u001b[49m\u001b[43m(\u001b[49m\u001b[43mn\u001b[49m\u001b[43m)\u001b[49m\n\u001b[0;32m    926\u001b[0m     \u001b[38;5;28;01mif\u001b[39;00m n \u001b[38;5;241m<\u001b[39m \u001b[38;5;28mlen\u001b[39m(data):\n\u001b[0;32m    927\u001b[0m         \u001b[38;5;28mself\u001b[39m\u001b[38;5;241m.\u001b[39m_readbuffer \u001b[38;5;241m=\u001b[39m data\n",
      "File \u001b[1;32mc:\\Users\\JoaoPereira\\AppData\\Local\\Programs\\Python\\Python310\\lib\\zipfile.py:995\u001b[0m, in \u001b[0;36mZipExtFile._read1\u001b[1;34m(self, n)\u001b[0m\n\u001b[0;32m    993\u001b[0m         data \u001b[38;5;241m+\u001b[39m\u001b[38;5;241m=\u001b[39m \u001b[38;5;28mself\u001b[39m\u001b[38;5;241m.\u001b[39m_read2(n \u001b[38;5;241m-\u001b[39m \u001b[38;5;28mlen\u001b[39m(data))\n\u001b[0;32m    994\u001b[0m \u001b[38;5;28;01melse\u001b[39;00m:\n\u001b[1;32m--> 995\u001b[0m     data \u001b[38;5;241m=\u001b[39m \u001b[38;5;28;43mself\u001b[39;49m\u001b[38;5;241;43m.\u001b[39;49m\u001b[43m_read2\u001b[49m\u001b[43m(\u001b[49m\u001b[43mn\u001b[49m\u001b[43m)\u001b[49m\n\u001b[0;32m    997\u001b[0m \u001b[38;5;28;01mif\u001b[39;00m \u001b[38;5;28mself\u001b[39m\u001b[38;5;241m.\u001b[39m_compress_type \u001b[38;5;241m==\u001b[39m ZIP_STORED:\n\u001b[0;32m    998\u001b[0m     \u001b[38;5;28mself\u001b[39m\u001b[38;5;241m.\u001b[39m_eof \u001b[38;5;241m=\u001b[39m \u001b[38;5;28mself\u001b[39m\u001b[38;5;241m.\u001b[39m_compress_left \u001b[38;5;241m<\u001b[39m\u001b[38;5;241m=\u001b[39m \u001b[38;5;241m0\u001b[39m\n",
      "File \u001b[1;32mc:\\Users\\JoaoPereira\\AppData\\Local\\Programs\\Python\\Python310\\lib\\zipfile.py:1025\u001b[0m, in \u001b[0;36mZipExtFile._read2\u001b[1;34m(self, n)\u001b[0m\n\u001b[0;32m   1022\u001b[0m n \u001b[38;5;241m=\u001b[39m \u001b[38;5;28mmax\u001b[39m(n, \u001b[38;5;28mself\u001b[39m\u001b[38;5;241m.\u001b[39mMIN_READ_SIZE)\n\u001b[0;32m   1023\u001b[0m n \u001b[38;5;241m=\u001b[39m \u001b[38;5;28mmin\u001b[39m(n, \u001b[38;5;28mself\u001b[39m\u001b[38;5;241m.\u001b[39m_compress_left)\n\u001b[1;32m-> 1025\u001b[0m data \u001b[38;5;241m=\u001b[39m \u001b[38;5;28;43mself\u001b[39;49m\u001b[38;5;241;43m.\u001b[39;49m\u001b[43m_fileobj\u001b[49m\u001b[38;5;241;43m.\u001b[39;49m\u001b[43mread\u001b[49m\u001b[43m(\u001b[49m\u001b[43mn\u001b[49m\u001b[43m)\u001b[49m\n\u001b[0;32m   1026\u001b[0m \u001b[38;5;28mself\u001b[39m\u001b[38;5;241m.\u001b[39m_compress_left \u001b[38;5;241m-\u001b[39m\u001b[38;5;241m=\u001b[39m \u001b[38;5;28mlen\u001b[39m(data)\n\u001b[0;32m   1027\u001b[0m \u001b[38;5;28;01mif\u001b[39;00m \u001b[38;5;129;01mnot\u001b[39;00m data:\n",
      "File \u001b[1;32mc:\\Users\\JoaoPereira\\AppData\\Local\\Programs\\Python\\Python310\\lib\\zipfile.py:745\u001b[0m, in \u001b[0;36m_SharedFile.read\u001b[1;34m(self, n)\u001b[0m\n\u001b[0;32m    741\u001b[0m     \u001b[38;5;28;01mraise\u001b[39;00m \u001b[38;5;167;01mValueError\u001b[39;00m(\u001b[38;5;124m\"\u001b[39m\u001b[38;5;124mCan\u001b[39m\u001b[38;5;124m'\u001b[39m\u001b[38;5;124mt read from the ZIP file while there \u001b[39m\u001b[38;5;124m\"\u001b[39m\n\u001b[0;32m    742\u001b[0m             \u001b[38;5;124m\"\u001b[39m\u001b[38;5;124mis an open writing handle on it. \u001b[39m\u001b[38;5;124m\"\u001b[39m\n\u001b[0;32m    743\u001b[0m             \u001b[38;5;124m\"\u001b[39m\u001b[38;5;124mClose the writing handle before trying to read.\u001b[39m\u001b[38;5;124m\"\u001b[39m)\n\u001b[0;32m    744\u001b[0m \u001b[38;5;28mself\u001b[39m\u001b[38;5;241m.\u001b[39m_file\u001b[38;5;241m.\u001b[39mseek(\u001b[38;5;28mself\u001b[39m\u001b[38;5;241m.\u001b[39m_pos)\n\u001b[1;32m--> 745\u001b[0m data \u001b[38;5;241m=\u001b[39m \u001b[38;5;28;43mself\u001b[39;49m\u001b[38;5;241;43m.\u001b[39;49m\u001b[43m_file\u001b[49m\u001b[38;5;241;43m.\u001b[39;49m\u001b[43mread\u001b[49m\u001b[43m(\u001b[49m\u001b[43mn\u001b[49m\u001b[43m)\u001b[49m\n\u001b[0;32m    746\u001b[0m \u001b[38;5;28mself\u001b[39m\u001b[38;5;241m.\u001b[39m_pos \u001b[38;5;241m=\u001b[39m \u001b[38;5;28mself\u001b[39m\u001b[38;5;241m.\u001b[39m_file\u001b[38;5;241m.\u001b[39mtell()\n\u001b[0;32m    747\u001b[0m \u001b[38;5;28;01mreturn\u001b[39;00m data\n",
      "\u001b[1;31mKeyboardInterrupt\u001b[0m: "
     ]
    }
   ],
   "source": [
    "# loop through all subdirectories\n",
    "for subdir in os.listdir(directory):\n",
    "    # check if the subdirectory name starts with \"LST10_DC_\"\n",
    "    if subdir.startswith('LST10_DC_'):\n",
    "        # get the date from the folder name\n",
    "        date = subdir.split('_')[2][:8]  # Parse the date from the folder name\n",
    "        # construct the new folder name with the shortened date\n",
    "        new_folder_name = f'LST10_DC_{date}_GLOBE_GEO_V2.0.1'\n",
    "        # Construct the paths for the old and new folders\n",
    "        old_folder_path = os.path.join(directory, subdir)\n",
    "        new_folder_path = os.path.join(directory, new_folder_name)\n",
    "        # rename the folder\n",
    "        os.rename(old_folder_path, new_folder_path)\n",
    "\n",
    "        # unzip the zipped file inside the subdirectory\n",
    "        for file in os.listdir(new_folder_path):\n",
    "            if file.startswith('c_gls_LST10') and file.endswith('.zip'):\n",
    "                zip_file_path = os.path.join(new_folder_path, file)\n",
    "                shutil.unpack_archive(zip_file_path, extract_dir=new_folder_path)\n",
    "\n",
    "        # find the folder with only the date\n",
    "        for inner_folder in os.listdir(new_folder_path):\n",
    "            inner_folder_path = os.path.join(new_folder_path, inner_folder)\n",
    "            if os.path.isdir(inner_folder_path) and len(inner_folder) == 8 and inner_folder.isdigit():\n",
    "                # Get the date from the inner folder name\n",
    "                date = inner_folder\n",
    "                # Copy the desired .tiff file to the output directory with the updated name\n",
    "                for file in os.listdir(inner_folder_path):\n",
    "                    if file.endswith(\".tiff\") and f\"c_gls_LST10-DC-{folder_type}\" in file:\n",
    "                        src_path = os.path.join(inner_folder_path, file)\n",
    "                        dst_filename = f\"LST_10_{date}_{folder_type}.tiff\"  # Include folder type in the output file name\n",
    "                        dst_path = os.path.join(output_dir, dst_filename)\n",
    "                        shutil.copy(src_path, dst_path)"
   ]
  },
  {
   "cell_type": "code",
   "execution_count": 23,
   "metadata": {},
   "outputs": [],
   "source": [
    "def lst_calc_daily_mean(input_dir, output_dir, start_date, end_date, clip=False, aoi_shapefile=None):\n",
    "    # Convert start_date and end_date to datetime objects\n",
    "    start_date = datetime.strptime(start_date, \"%Y-%m-%d\")\n",
    "    end_date = datetime.strptime(end_date, \"%Y-%m-%d\")\n",
    "\n",
    "    tiff_files = [f for f in os.listdir(input_dir) if f.endswith(\"_MEDIAN.tiff\")]\n",
    "    tiff_files = [f for f in tiff_files if is_within_date_range(f, start_date, end_date)]\n",
    "\n",
    "    # Define the output subdirectory based on clip argument\n",
    "    mean_subdirectory = os.path.join(output_dir, 'cut')\n",
    "    os.makedirs(mean_subdirectory, exist_ok=True)\n",
    "\n",
    "    for file_name in tiff_files:\n",
    "        input_file_path = os.path.join(input_dir, file_name)\n",
    "        clipped_file_path = os.path.join(mean_subdirectory, file_name.replace(\".tiff\", \"_clipped.tiff\"))\n",
    "\n",
    "        if clip:\n",
    "            # Perform clipping first\n",
    "            af.reproject_clip_resample_tiff(\n",
    "                input_tiff=input_file_path,\n",
    "                output_tiff=clipped_file_path,\n",
    "                aoi_shapefile=aoi_shapefile,\n",
    "                clip=True\n",
    "            )\n",
    "            file_path_to_process = clipped_file_path\n",
    "        else:\n",
    "            file_path_to_process = input_file_path\n",
    "\n",
    "        # Process the raster (clipped or original)\n",
    "        with rioxarray.open_rasterio(file_path_to_process) as ds:\n",
    "            ds = ds.rio.write_crs(\"epsg:4326\", inplace=True)\n",
    "\n",
    "            if ds.rio.count != 24:\n",
    "                print(f\"Unexpected number of bands in {file_name}. Expected 24, found {ds.rio.count}.\")\n",
    "                continue\n",
    "\n",
    "            ds = ds.where(ds != -8000, np.nan)\n",
    "            mean_data = ds.mean(dim='band')\n",
    "            mean_data.rio.write_crs(\"epsg:4326\", inplace=True)\n",
    "\n",
    "            output_file_name = file_name.replace(\"_MEDIAN.tiff\", \"_dailymean.tiff\")\n",
    "            output_file_path = os.path.join(mean_subdirectory, output_file_name)\n",
    "            mean_data.rio.to_raster(output_file_path)\n",
    "\n",
    "    # Delete all files ending with _MEDIAN_clipped.tiff\n",
    "    for file in glob.glob(os.path.join(mean_subdirectory, \"*_MEDIAN_clipped.tiff\")):\n",
    "        os.remove(file)\n",
    "\n",
    "    return mean_subdirectory"
   ]
  },
  {
   "cell_type": "code",
   "execution_count": 24,
   "metadata": {},
   "outputs": [],
   "source": [
    "def is_within_date_range(file_name, start_date, end_date):\n",
    "    # Extract the date from the file name\n",
    "    date_str = file_name.split('_')[2]  # Adjust this to the correct index\n",
    "    file_date = datetime.strptime(date_str, \"%Y%m%d\")  # Format matches 'YYYYMMDD'\n",
    "\n",
    "    return start_date <= file_date <= end_date"
   ]
  },
  {
   "cell_type": "code",
   "execution_count": 30,
   "metadata": {},
   "outputs": [],
   "source": [
    "start_date=\"2021-01-01\" #YYYY-MM-DD\n",
    "end_date=\"2023-10-30\"\n",
    "\n",
    "date_range_str = f\"{start_date}_to_{end_date}\""
   ]
  },
  {
   "cell_type": "code",
   "execution_count": 26,
   "metadata": {},
   "outputs": [],
   "source": [
    "path = lst_calc_daily_mean(input_dir=input_dir, \n",
    "                                 output_dir=output_dir, \n",
    "                                 start_date=start_date, \n",
    "                                 end_date=end_date, \n",
    "                                 clip=True,\n",
    "                                 aoi_shapefile=aoi_shapefile)"
   ]
  },
  {
   "cell_type": "code",
   "execution_count": 27,
   "metadata": {},
   "outputs": [],
   "source": [
    "def lst_to_df(file, path):\n",
    "    lst_data = rioxarray.open_rasterio(os.path.join(path, f\"{file}.tiff\"))[0].rio.write_crs(\"epsg:4326\", inplace=True)\n",
    "    date = file.split('_')[2]\n",
    "    lst_data.name = f\"LST_{date}\"\n",
    "\n",
    "    return lst_data.to_dataframe()\\\n",
    "        .drop([\"band\", \"spatial_ref\"], axis=\"columns\")\\\n",
    "        .reset_index()\\\n",
    "        .reindex(columns=[\"x\", \"y\", lst_data.name])\\\n",
    "        .rename({\"x\": \"longitude\", \"y\": \"latitude\"}, axis=\"columns\")"
   ]
  },
  {
   "cell_type": "code",
   "execution_count": 31,
   "metadata": {},
   "outputs": [],
   "source": [
    "def lst_to_csv(path):\n",
    "    # Assuming path is already correctly set to either the 'cut' directory or the main directory\n",
    "    filenames = [os.path.basename(tiff).split(\".\")[0] for tiff in sorted(glob.glob(os.path.join(path, \"*_clipped.tiff\")))]\n",
    "\n",
    "    if not filenames:\n",
    "        # If no clipped files, try finding dailymean files\n",
    "        filenames = [os.path.basename(tiff).split(\".\")[0] for tiff in sorted(glob.glob(os.path.join(path, \"*_dailymean.tiff\")))]\n",
    "\n",
    "    if not filenames:\n",
    "        print(\"No files found. Check the path and file pattern.\")\n",
    "        return\n",
    "\n",
    "    # Convert the first file's DataFrame from Pandas to Polars\n",
    "    lst_merged = pl.DataFrame(lst_to_df(filenames[0], path))\n",
    "\n",
    "    for file in filenames[1:]:\n",
    "        # Convert subsequent DataFrames and join\n",
    "        next_df = pl.DataFrame(lst_to_df(file, path))\n",
    "        lst_merged = lst_merged.join(next_df, on=[\"longitude\", \"latitude\"], how=\"inner\")\n",
    "\n",
    "    # Rename the columns to remove \"LST_\"\n",
    "    new_column_names = {col: col.replace(\"LST_\", \"\") for col in lst_merged.columns if col.startswith(\"LST_\")}\n",
    "    lst_merged = lst_merged.rename(new_column_names)\n",
    "\n",
    "    for col in lst_merged.columns[2:]:\n",
    "        # Fill null values with 0, divide by 100, and then cast to integer # replace by -1?\n",
    "        transformed_column = lst_merged[col].fill_null(0) / 100\n",
    "        transformed_column = transformed_column.cast(pl.Int64)\n",
    "        lst_merged = lst_merged.with_columns(transformed_column.alias(col))\n",
    "\n",
    "    file_name = f\"A24_LST_{date_range_str}.csv\"\n",
    "\n",
    "    # Save the CSV file\n",
    "    lst_merged.write_csv(os.path.join(path, file_name))"
   ]
  },
  {
   "cell_type": "code",
   "execution_count": 32,
   "metadata": {},
   "outputs": [],
   "source": [
    "lst_to_csv(path)"
   ]
  },
  {
   "cell_type": "code",
   "execution_count": null,
   "metadata": {},
   "outputs": [],
   "source": []
  }
 ],
 "metadata": {
  "kernelspec": {
   "display_name": "Python 3",
   "language": "python",
   "name": "python3"
  },
  "language_info": {
   "codemirror_mode": {
    "name": "ipython",
    "version": 3
   },
   "file_extension": ".py",
   "mimetype": "text/x-python",
   "name": "python",
   "nbconvert_exporter": "python",
   "pygments_lexer": "ipython3",
   "version": "3.10.8"
  }
 },
 "nbformat": 4,
 "nbformat_minor": 2
}
