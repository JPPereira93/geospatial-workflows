{
 "cells": [
  {
   "cell_type": "markdown",
   "metadata": {
    "vscode": {
     "languageId": "plaintext"
    }
   },
   "source": [
    "## Slope Angle\n",
    "\n",
    "* Use lastools (https://github.com/LAStools/LAStools?tab=readme-ov-file) and must install LAStools from https://rapidlasso.de/downloads/) and then place \"C:\\...\\LAStools\\bin\" into the Windows Environmental Variable PATH\n",
    "\n",
    "* Make sure to fully close Visual Studio Code IDE and open again to recognize PATH variables\n",
    "\n",
    "* lastools used: laszip64, lasthin, lasmerge, lascopcindex"
   ]
  },
  {
   "cell_type": "code",
   "execution_count": 1,
   "metadata": {},
   "outputs": [
    {
     "data": {
      "text/plain": [
       "<module 'aux_functions' from 'C:\\\\Users\\\\fuji_\\\\Desktop\\\\pygeo\\\\Geospatial-Ops\\\\aux_functions.py'>"
      ]
     },
     "execution_count": 1,
     "metadata": {},
     "output_type": "execute_result"
    }
   ],
   "source": [
    "import sys\n",
    "\n",
    "# Custom Module Imports\n",
    "sys.path.append(r\"C:\\Users\\fuji_\\Desktop\\pygeo\\Geospatial-Ops\")\n",
    "import aux_functions as af\n",
    "import importlib\n",
    "importlib.reload(af)"
   ]
  },
  {
   "cell_type": "markdown",
   "metadata": {},
   "source": [
    "# Define Directories"
   ]
  },
  {
   "cell_type": "code",
   "execution_count": 3,
   "metadata": {},
   "outputs": [],
   "source": [
    "hdd_dir = r\"D:\\Geospatial_Pessoal\"\n",
    "\n",
    "input_directory = fr\"{hdd_dir}\\DadosLiDAR_Serras_Lousa\""
   ]
  },
  {
   "cell_type": "markdown",
   "metadata": {},
   "source": [
    "### Convert .las to .laz\n",
    "\n",
    "* .laz is a more compressed filetype than .las. However, this time this step won't be executed because the data already is in .laz format"
   ]
  },
  {
   "cell_type": "markdown",
   "metadata": {},
   "source": [
    "### Decimate .laz files\n",
    "\n",
    "* Reduce the quantity of points to make the data more manageable"
   ]
  },
  {
   "cell_type": "code",
   "execution_count": 3,
   "metadata": {},
   "outputs": [
    {
     "name": "stdout",
     "output_type": "stream",
     "text": [
      "Decimation completed in D:\\Geospatial_Pessoal\\DadosLiDAR_Serras_Lousa\n"
     ]
    }
   ],
   "source": [
    "af.thin_laz_files(input_directory, 1.0)"
   ]
  },
  {
   "cell_type": "markdown",
   "metadata": {},
   "source": [
    "### Merge several .laz to a single .laz file\n",
    "\n",
    "* Due to character length (it has around 800 .laz files) when doing lasmerge some workarounds were made\n",
    "* Relative paths were introduced to reduce the character length and playing around the working directory and notebook directory"
   ]
  },
  {
   "cell_type": "code",
   "execution_count": 4,
   "metadata": {},
   "outputs": [
    {
     "name": "stdout",
     "output_type": "stream",
     "text": [
      "Running command: lasmerge -i X-10000Y43000-IRG_thinned.laz X-10000Y43500-IRG_thinned.laz X-10000Y44000-IRG_thinned.laz X-10000Y44500-IRG_thinned.laz X-10000Y45000-IRG_thinned.laz X-10000Y45500-IRG_thinned.laz X-10000Y46000-IRG_thinned.laz X-10000Y46500-IRG_thinned.laz X-10000Y47000-IRG_thinned.laz X-10000Y47500-IRG_thinned.laz X-10000Y48000-IRG_thinned.laz X-10000Y48500-IRG_thinned.laz X-10000Y49000-IRG_thinned.laz X-10000Y49500-IRG_thinned.laz X-10000Y50000-IRG_thinned.laz X-10000Y50500-IRG_thinned.laz X-1000Y41000-IRG_thinned.laz X-1000Y41500-IRG_thinned.laz X-1000Y42000-IRG_thinned.laz X-1000Y42500-IRG_thinned.laz X-1000Y43000-IRG_thinned.laz X-1000Y43500-IRG_thinned.laz X-1000Y44000-IRG_thinned.laz X-1000Y44500-IRG_thinned.laz X-1000Y45000-IRG_thinned.laz X-1000Y45500-IRG_thinned.laz X-1000Y46000-IRG_thinned.laz X-1000Y46500-IRG_thinned.laz X-1000Y47000-IRG_thinned.laz X-1000Y47500-IRG_thinned.laz X-1000Y48000-IRG_thinned.laz X-1000Y48500-IRG_thinned.laz X-1000Y49000-IRG_thinned.laz X-1000Y49500-IRG_thinned.laz X-1000Y50000-IRG_thinned.laz X-1000Y50500-IRG_thinned.laz X-1000Y51000-IRG_thinned.laz X-1000Y51500-IRG_thinned.laz X-1000Y52000-IRG_thinned.laz X-1000Y52500-IRG_thinned.laz X-1000Y53000-IRG_thinned.laz X-1000Y53500-IRG_thinned.laz X-1000Y54000-IRG_thinned.laz X-1000Y54500-IRG_thinned.laz X-1000Y55000-IRG_thinned.laz X-1000Y55500-IRG_thinned.laz X-10500Y43000-IRG_thinned.laz X-10500Y43500-IRG_thinned.laz X-10500Y44000-IRG_thinned.laz X-10500Y44500-IRG_thinned.laz X-10500Y45000-IRG_thinned.laz X-10500Y45500-IRG_thinned.laz X-10500Y46000-IRG_thinned.laz X-10500Y46500-IRG_thinned.laz X-10500Y47000-IRG_thinned.laz X-10500Y47500-IRG_thinned.laz X-10500Y48000-IRG_thinned.laz X-10500Y48500-IRG_thinned.laz X-10500Y49000-IRG_thinned.laz X-10500Y49500-IRG_thinned.laz X-10500Y50000-IRG_thinned.laz X-11000Y43500-IRG_thinned.laz X-11000Y44000-IRG_thinned.laz X-11000Y44500-IRG_thinned.laz X-11000Y45000-IRG_thinned.laz X-11000Y45500-IRG_thinned.laz X-11000Y46000-IRG_thinned.laz X-11000Y46500-IRG_thinned.laz X-11000Y47000-IRG_thinned.laz X-11000Y47500-IRG_thinned.laz X-11000Y48000-IRG_thinned.laz X-11000Y48500-IRG_thinned.laz X-11000Y49000-IRG_thinned.laz X-11000Y49500-IRG_thinned.laz X-11500Y43500-IRG_thinned.laz X-11500Y44000-IRG_thinned.laz X-11500Y44500-IRG_thinned.laz X-11500Y45000-IRG_thinned.laz X-11500Y45500-IRG_thinned.laz X-11500Y46000-IRG_thinned.laz X-11500Y46500-IRG_thinned.laz X-11500Y47000-IRG_thinned.laz X-11500Y47500-IRG_thinned.laz X-11500Y48000-IRG_thinned.laz X-11500Y48500-IRG_thinned.laz X-11500Y49000-IRG_thinned.laz X-11500Y49500-IRG_thinned.laz X-12000Y44500-IRG_thinned.laz X-12000Y45000-IRG_thinned.laz X-12000Y45500-IRG_thinned.laz X-12000Y46000-IRG_thinned.laz X-12000Y46500-IRG_thinned.laz X-12000Y47000-IRG_thinned.laz X-12000Y47500-IRG_thinned.laz X-12000Y48000-IRG_thinned.laz X-12000Y48500-IRG_thinned.laz X-12000Y49000-IRG_thinned.laz X-12500Y45000-IRG_thinned.laz X-12500Y45500-IRG_thinned.laz X-12500Y46000-IRG_thinned.laz X-12500Y46500-IRG_thinned.laz X-12500Y47000-IRG_thinned.laz X-12500Y47500-IRG_thinned.laz X-12500Y48000-IRG_thinned.laz X-12500Y48500-IRG_thinned.laz X-12500Y49000-IRG_thinned.laz X-13000Y45500-IRG_thinned.laz X-13000Y46000-IRG_thinned.laz X-13000Y46500-IRG_thinned.laz X-13000Y47000-IRG_thinned.laz X-13000Y47500-IRG_thinned.laz X-13000Y48000-IRG_thinned.laz X-13000Y48500-IRG_thinned.laz X-13500Y45500-IRG_thinned.laz X-13500Y46000-IRG_thinned.laz X-13500Y46500-IRG_thinned.laz X-13500Y47000-IRG_thinned.laz X-13500Y47500-IRG_thinned.laz X-13500Y48000-IRG_thinned.laz X-14000Y46000-IRG_thinned.laz X-14000Y46500-IRG_thinned.laz X-14000Y47000-IRG_thinned.laz X-14000Y47500-IRG_thinned.laz X-14000Y48000-IRG_thinned.laz X-14500Y47000-IRG_thinned.laz X-14500Y47500-IRG_thinned.laz X-1500Y41000-IRG_thinned.laz X-1500Y41500-IRG_thinned.laz X-1500Y42000-IRG_thinned.laz X-1500Y42500-IRG_thinned.laz X-1500Y43000-IRG_thinned.laz X-1500Y43500-IRG_thinned.laz X-1500Y44000-IRG_thinned.laz X-1500Y44500-IRG_thinned.laz X-1500Y45000-IRG_thinned.laz X-1500Y45500-IRG_thinned.laz X-1500Y46000-IRG_thinned.laz X-1500Y46500-IRG_thinned.laz X-1500Y47000-IRG_thinned.laz X-1500Y47500-IRG_thinned.laz X-1500Y48000-IRG_thinned.laz X-1500Y48500-IRG_thinned.laz X-1500Y49000-IRG_thinned.laz X-1500Y49500-IRG_thinned.laz X-1500Y50000-IRG_thinned.laz X-1500Y50500-IRG_thinned.laz X-1500Y51000-IRG_thinned.laz X-1500Y51500-IRG_thinned.laz X-1500Y52000-IRG_thinned.laz X-1500Y52500-IRG_thinned.laz X-1500Y53000-IRG_thinned.laz X-1500Y53500-IRG_thinned.laz X-1500Y54000-IRG_thinned.laz X-1500Y54500-IRG_thinned.laz X-1500Y55000-IRG_thinned.laz X-1500Y55500-IRG_thinned.laz X-1500Y56000-IRG_thinned.laz X-1500Y56500-IRG_thinned.laz X-2000Y41000-IRG_thinned.laz X-2000Y41500-IRG_thinned.laz X-2000Y42000-IRG_thinned.laz X-2000Y42500-IRG_thinned.laz X-2000Y43000-IRG_thinned.laz X-2000Y43500-IRG_thinned.laz X-2000Y44000-IRG_thinned.laz X-2000Y44500-IRG_thinned.laz X-2000Y45000-IRG_thinned.laz X-2000Y45500-IRG_thinned.laz X-2000Y46000-IRG_thinned.laz X-2000Y46500-IRG_thinned.laz X-2000Y47000-IRG_thinned.laz X-2000Y47500-IRG_thinned.laz X-2000Y48000-IRG_thinned.laz X-2000Y48500-IRG_thinned.laz X-2000Y49000-IRG_thinned.laz X-2000Y49500-IRG_thinned.laz X-2000Y50000-IRG_thinned.laz X-2000Y50500-IRG_thinned.laz X-2000Y51000-IRG_thinned.laz X-2000Y51500-IRG_thinned.laz X-2000Y52000-IRG_thinned.laz X-2000Y52500-IRG_thinned.laz X-2000Y53000-IRG_thinned.laz X-2000Y53500-IRG_thinned.laz X-2000Y54000-IRG_thinned.laz X-2000Y54500-IRG_thinned.laz X-2000Y55000-IRG_thinned.laz X-2000Y55500-IRG_thinned.laz X-2000Y56000-IRG_thinned.laz X-2000Y56500-IRG_thinned.laz X-2000Y57000-IRG_thinned.laz X-2500Y41500-IRG_thinned.laz X-2500Y42000-IRG_thinned.laz X-2500Y42500-IRG_thinned.laz X-2500Y43000-IRG_thinned.laz X-2500Y43500-IRG_thinned.laz X-2500Y44000-IRG_thinned.laz X-2500Y44500-IRG_thinned.laz X-2500Y45000-IRG_thinned.laz X-2500Y45500-IRG_thinned.laz X-2500Y46000-IRG_thinned.laz X-2500Y46500-IRG_thinned.laz X-2500Y47000-IRG_thinned.laz X-2500Y47500-IRG_thinned.laz X-2500Y48000-IRG_thinned.laz X-2500Y48500-IRG_thinned.laz X-2500Y49000-IRG_thinned.laz X-2500Y49500-IRG_thinned.laz X-2500Y50000-IRG_thinned.laz X-2500Y50500-IRG_thinned.laz X-2500Y51000-IRG_thinned.laz X-2500Y51500-IRG_thinned.laz X-2500Y52000-IRG_thinned.laz X-2500Y52500-IRG_thinned.laz X-2500Y53000-IRG_thinned.laz X-2500Y53500-IRG_thinned.laz X-2500Y54000-IRG_thinned.laz X-2500Y54500-IRG_thinned.laz X-2500Y55000-IRG_thinned.laz X-2500Y55500-IRG_thinned.laz X-2500Y56000-IRG_thinned.laz X-2500Y56500-IRG_thinned.laz X-2500Y57000-IRG_thinned.laz X-2500Y57500-IRG_thinned.laz X-3000Y42000-IRG_thinned.laz X-3000Y42500-IRG_thinned.laz X-3000Y43000-IRG_thinned.laz X-3000Y43500-IRG_thinned.laz X-3000Y44000-IRG_thinned.laz X-3000Y44500-IRG_thinned.laz X-3000Y45000-IRG_thinned.laz X-3000Y45500-IRG_thinned.laz X-3000Y46000-IRG_thinned.laz X-3000Y46500-IRG_thinned.laz X-3000Y47000-IRG_thinned.laz X-3000Y47500-IRG_thinned.laz X-3000Y48000-IRG_thinned.laz X-3000Y48500-IRG_thinned.laz X-3000Y49000-IRG_thinned.laz X-3000Y49500-IRG_thinned.laz X-3000Y50000-IRG_thinned.laz X-3000Y50500-IRG_thinned.laz X-3000Y51000-IRG_thinned.laz X-3000Y51500-IRG_thinned.laz X-3000Y52000-IRG_thinned.laz X-3000Y52500-IRG_thinned.laz X-3000Y53000-IRG_thinned.laz X-3000Y53500-IRG_thinned.laz X-3000Y54000-IRG_thinned.laz X-3000Y54500-IRG_thinned.laz X-3000Y55000-IRG_thinned.laz X-3000Y55500-IRG_thinned.laz X-3000Y56000-IRG_thinned.laz X-3000Y56500-IRG_thinned.laz X-3000Y57000-IRG_thinned.laz X-3000Y57500-IRG_thinned.laz X-3500Y44500-IRG_thinned.laz X-3500Y45000-IRG_thinned.laz X-3500Y45500-IRG_thinned.laz X-3500Y46000-IRG_thinned.laz X-3500Y46500-IRG_thinned.laz X-3500Y47000-IRG_thinned.laz X-3500Y47500-IRG_thinned.laz X-3500Y48000-IRG_thinned.laz X-3500Y48500-IRG_thinned.laz X-3500Y49000-IRG_thinned.laz X-3500Y49500-IRG_thinned.laz X-3500Y50000-IRG_thinned.laz X-3500Y50500-IRG_thinned.laz X-3500Y51000-IRG_thinned.laz X-3500Y51500-IRG_thinned.laz X-3500Y52000-IRG_thinned.laz X-3500Y52500-IRG_thinned.laz X-3500Y53000-IRG_thinned.laz X-3500Y53500-IRG_thinned.laz X-3500Y54000-IRG_thinned.laz X-3500Y54500-IRG_thinned.laz X-3500Y55000-IRG_thinned.laz X-3500Y55500-IRG_thinned.laz X-3500Y56000-IRG_thinned.laz X-3500Y56500-IRG_thinned.laz X-3500Y57000-IRG_thinned.laz X-4000Y44000-IRG_thinned.laz X-4000Y44500-IRG_thinned.laz X-4000Y45000-IRG_thinned.laz X-4000Y45500-IRG_thinned.laz X-4000Y46000-IRG_thinned.laz X-4000Y46500-IRG_thinned.laz X-4000Y47000-IRG_thinned.laz X-4000Y47500-IRG_thinned.laz X-4000Y48000-IRG_thinned.laz X-4000Y48500-IRG_thinned.laz X-4000Y49000-IRG_thinned.laz X-4000Y49500-IRG_thinned.laz X-4000Y50000-IRG_thinned.laz X-4000Y50500-IRG_thinned.laz X-4000Y51000-IRG_thinned.laz X-4000Y51500-IRG_thinned.laz X-4000Y52000-IRG_thinned.laz X-4000Y52500-IRG_thinned.laz X-4000Y53000-IRG_thinned.laz X-4000Y53500-IRG_thinned.laz X-4000Y54000-IRG_thinned.laz X-4000Y54500-IRG_thinned.laz X-4000Y55000-IRG_thinned.laz X-4000Y55500-IRG_thinned.laz X-4000Y56000-IRG_thinned.laz X-4000Y56500-IRG_thinned.laz X-4000Y57000-IRG_thinned.laz X-4500Y43500-IRG_thinned.laz X-4500Y44000-IRG_thinned.laz X-4500Y44500-IRG_thinned.laz X-4500Y45000-IRG_thinned.laz X-4500Y45500-IRG_thinned.laz X-4500Y46000-IRG_thinned.laz X-4500Y46500-IRG_thinned.laz X-4500Y47000-IRG_thinned.laz X-4500Y47500-IRG_thinned.laz X-4500Y48000-IRG_thinned.laz X-4500Y48500-IRG_thinned.laz X-4500Y49000-IRG_thinned.laz X-4500Y49500-IRG_thinned.laz X-4500Y50000-IRG_thinned.laz X-4500Y50500-IRG_thinned.laz X-4500Y51000-IRG_thinned.laz X-4500Y51500-IRG_thinned.laz X-4500Y52000-IRG_thinned.laz X-4500Y52500-IRG_thinned.laz X-4500Y53000-IRG_thinned.laz X-4500Y53500-IRG_thinned.laz X-4500Y54000-IRG_thinned.laz X-4500Y54500-IRG_thinned.laz X-4500Y55000-IRG_thinned.laz X-4500Y55500-IRG_thinned.laz X-4500Y56000-IRG_thinned.laz X-4500Y56500-IRG_thinned.laz X-5000Y43500-IRG_thinned.laz X-5000Y44000-IRG_thinned.laz X-5000Y44500-IRG_thinned.laz X-5000Y45000-IRG_thinned.laz X-5000Y45500-IRG_thinned.laz X-5000Y46000-IRG_thinned.laz X-5000Y46500-IRG_thinned.laz X-5000Y47000-IRG_thinned.laz X-5000Y47500-IRG_thinned.laz X-5000Y48000-IRG_thinned.laz X-5000Y48500-IRG_thinned.laz X-5000Y49000-IRG_thinned.laz X-5000Y49500-IRG_thinned.laz X-5000Y50000-IRG_thinned.laz X-5000Y50500-IRG_thinned.laz X-5000Y51000-IRG_thinned.laz X-5000Y51500-IRG_thinned.laz X-5000Y52000-IRG_thinned.laz X-5000Y52500-IRG_thinned.laz X-5000Y53000-IRG_thinned.laz X-5000Y53500-IRG_thinned.laz X-5000Y54000-IRG_thinned.laz X-5000Y54500-IRG_thinned.laz X-5000Y55000-IRG_thinned.laz X-5000Y55500-IRG_thinned.laz X-5000Y56000-IRG_thinned.laz X-500Y41500-IRG_thinned.laz X-500Y42000-IRG_thinned.laz X-500Y42500-IRG_thinned.laz X-500Y43000-IRG_thinned.laz X-500Y43500-IRG_thinned.laz X-500Y44000-IRG_thinned.laz X-500Y44500-IRG_thinned.laz X-500Y45000-IRG_thinned.laz X-500Y45500-IRG_thinned.laz X-500Y46000-IRG_thinned.laz X-500Y46500-IRG_thinned.laz X-500Y47000-IRG_thinned.laz X-500Y47500-IRG_thinned.laz X-500Y48000-IRG_thinned.laz X-500Y48500-IRG_thinned.laz X-500Y49000-IRG_thinned.laz X-500Y49500-IRG_thinned.laz X-500Y50000-IRG_thinned.laz X-500Y50500-IRG_thinned.laz X-500Y51000-IRG_thinned.laz X-500Y51500-IRG_thinned.laz X-500Y52000-IRG_thinned.laz X-500Y52500-IRG_thinned.laz X-500Y53000-IRG_thinned.laz X-500Y53500-IRG_thinned.laz X-500Y54000-IRG_thinned.laz X-500Y54500-IRG_thinned.laz X-500Y55000-IRG_thinned.laz X-5500Y43000-IRG_thinned.laz X-5500Y43500-IRG_thinned.laz X-5500Y44000-IRG_thinned.laz X-5500Y44500-IRG_thinned.laz X-5500Y45000-IRG_thinned.laz X-5500Y45500-IRG_thinned.laz X-5500Y46000-IRG_thinned.laz X-5500Y46500-IRG_thinned.laz X-5500Y47000-IRG_thinned.laz X-5500Y47500-IRG_thinned.laz X-5500Y48000-IRG_thinned.laz X-5500Y48500-IRG_thinned.laz X-5500Y49000-IRG_thinned.laz X-5500Y49500-IRG_thinned.laz X-5500Y50000-IRG_thinned.laz X-5500Y50500-IRG_thinned.laz X-5500Y51000-IRG_thinned.laz X-5500Y51500-IRG_thinned.laz X-5500Y52000-IRG_thinned.laz X-5500Y52500-IRG_thinned.laz X-5500Y53000-IRG_thinned.laz X-5500Y53500-IRG_thinned.laz X-5500Y54000-IRG_thinned.laz X-5500Y54500-IRG_thinned.laz X-5500Y55000-IRG_thinned.laz X-5500Y55500-IRG_thinned.laz X-5500Y56000-IRG_thinned.laz X-6000Y43000-IRG_thinned.laz X-6000Y43500-IRG_thinned.laz X-6000Y44000-IRG_thinned.laz X-6000Y44500-IRG_thinned.laz X-6000Y45000-IRG_thinned.laz X-6000Y45500-IRG_thinned.laz X-6000Y46000-IRG_thinned.laz X-6000Y46500-IRG_thinned.laz X-6000Y47000-IRG_thinned.laz X-6000Y47500-IRG_thinned.laz X-6000Y48000-IRG_thinned.laz X-6000Y48500-IRG_thinned.laz X-6000Y49000-IRG_thinned.laz X-6000Y49500-IRG_thinned.laz X-6000Y50000-IRG_thinned.laz X-6000Y50500-IRG_thinned.laz X-6000Y51000-IRG_thinned.laz X-6000Y51500-IRG_thinned.laz X-6000Y52000-IRG_thinned.laz X-6000Y52500-IRG_thinned.laz X-6000Y53000-IRG_thinned.laz X-6000Y53500-IRG_thinned.laz X-6000Y54000-IRG_thinned.laz X-6000Y54500-IRG_thinned.laz X-6000Y55000-IRG_thinned.laz X-6000Y55500-IRG_thinned.laz X-6500Y42500-IRG_thinned.laz X-6500Y43000-IRG_thinned.laz X-6500Y43500-IRG_thinned.laz X-6500Y44000-IRG_thinned.laz X-6500Y44500-IRG_thinned.laz X-6500Y45000-IRG_thinned.laz X-6500Y45500-IRG_thinned.laz X-6500Y46000-IRG_thinned.laz X-6500Y46500-IRG_thinned.laz X-6500Y47000-IRG_thinned.laz X-6500Y47500-IRG_thinned.laz X-6500Y48000-IRG_thinned.laz X-6500Y48500-IRG_thinned.laz X-6500Y49000-IRG_thinned.laz X-6500Y49500-IRG_thinned.laz X-6500Y50000-IRG_thinned.laz X-6500Y50500-IRG_thinned.laz X-6500Y51000-IRG_thinned.laz X-6500Y51500-IRG_thinned.laz X-6500Y52000-IRG_thinned.laz X-6500Y52500-IRG_thinned.laz X-6500Y53000-IRG_thinned.laz X-6500Y53500-IRG_thinned.laz X-6500Y54000-IRG_thinned.laz X-6500Y54500-IRG_thinned.laz X-6500Y55000-IRG_thinned.laz X-6500Y55500-IRG_thinned.laz X-7000Y42000-IRG_thinned.laz X-7000Y42500-IRG_thinned.laz X-7000Y43000-IRG_thinned.laz X-7000Y43500-IRG_thinned.laz X-7000Y44000-IRG_thinned.laz X-7000Y44500-IRG_thinned.laz X-7000Y45000-IRG_thinned.laz X-7000Y45500-IRG_thinned.laz X-7000Y46000-IRG_thinned.laz X-7000Y46500-IRG_thinned.laz X-7000Y47000-IRG_thinned.laz X-7000Y47500-IRG_thinned.laz X-7000Y48000-IRG_thinned.laz X-7000Y48500-IRG_thinned.laz X-7000Y49000-IRG_thinned.laz X-7000Y49500-IRG_thinned.laz X-7000Y50000-IRG_thinned.laz X-7000Y50500-IRG_thinned.laz X-7000Y51000-IRG_thinned.laz X-7000Y51500-IRG_thinned.laz X-7000Y52000-IRG_thinned.laz X-7000Y52500-IRG_thinned.laz X-7000Y53000-IRG_thinned.laz X-7000Y53500-IRG_thinned.laz X-7000Y54000-IRG_thinned.laz X-7000Y54500-IRG_thinned.laz X-7000Y55000-IRG_thinned.laz X-7500Y42000-IRG_thinned.laz X-7500Y42500-IRG_thinned.laz X-7500Y43000-IRG_thinned.laz X-7500Y43500-IRG_thinned.laz X-7500Y44000-IRG_thinned.laz X-7500Y44500-IRG_thinned.laz X-7500Y45000-IRG_thinned.laz X-7500Y45500-IRG_thinned.laz X-7500Y46000-IRG_thinned.laz X-7500Y46500-IRG_thinned.laz X-7500Y47000-IRG_thinned.laz X-7500Y47500-IRG_thinned.laz X-7500Y48000-IRG_thinned.laz X-7500Y48500-IRG_thinned.laz X-7500Y49000-IRG_thinned.laz X-7500Y49500-IRG_thinned.laz X-7500Y50000-IRG_thinned.laz X-7500Y50500-IRG_thinned.laz X-7500Y51000-IRG_thinned.laz X-7500Y51500-IRG_thinned.laz X-7500Y52000-IRG_thinned.laz X-7500Y52500-IRG_thinned.laz X-7500Y53000-IRG_thinned.laz X-7500Y53500-IRG_thinned.laz X-7500Y54500-IRG_thinned.laz X-8000Y41500-IRG_thinned.laz X-8000Y42000-IRG_thinned.laz X-8000Y42500-IRG_thinned.laz X-8000Y43000-IRG_thinned.laz X-8000Y43500-IRG_thinned.laz X-8000Y44000-IRG_thinned.laz X-8000Y44500-IRG_thinned.laz X-8000Y45000-IRG_thinned.laz X-8000Y45500-IRG_thinned.laz X-8000Y46000-IRG_thinned.laz X-8000Y46500-IRG_thinned.laz X-8000Y47000-IRG_thinned.laz X-8000Y47500-IRG_thinned.laz X-8000Y48000-IRG_thinned.laz X-8000Y48500-IRG_thinned.laz X-8000Y49000-IRG_thinned.laz X-8000Y49500-IRG_thinned.laz X-8000Y50000-IRG_thinned.laz X-8000Y50500-IRG_thinned.laz X-8000Y51000-IRG_thinned.laz X-8000Y51500-IRG_thinned.laz X-8000Y53500-IRG_thinned.laz X-8500Y42000-IRG_thinned.laz X-8500Y42500-IRG_thinned.laz X-8500Y43000-IRG_thinned.laz X-8500Y43500-IRG_thinned.laz X-8500Y44000-IRG_thinned.laz X-8500Y44500-IRG_thinned.laz X-8500Y45000-IRG_thinned.laz X-8500Y45500-IRG_thinned.laz X-8500Y46000-IRG_thinned.laz X-8500Y46500-IRG_thinned.laz X-8500Y47000-IRG_thinned.laz X-8500Y47500-IRG_thinned.laz X-8500Y48000-IRG_thinned.laz X-8500Y48500-IRG_thinned.laz X-8500Y49000-IRG_thinned.laz X-8500Y49500-IRG_thinned.laz X-8500Y50000-IRG_thinned.laz X-8500Y50500-IRG_thinned.laz X-8500Y51000-IRG_thinned.laz X-9000Y42500-IRG_thinned.laz X-9000Y43000-IRG_thinned.laz X-9000Y43500-IRG_thinned.laz X-9000Y44000-IRG_thinned.laz X-9000Y44500-IRG_thinned.laz X-9000Y45000-IRG_thinned.laz X-9000Y45500-IRG_thinned.laz X-9000Y46000-IRG_thinned.laz X-9000Y46500-IRG_thinned.laz X-9000Y47000-IRG_thinned.laz X-9000Y47500-IRG_thinned.laz X-9000Y48000-IRG_thinned.laz X-9000Y48500-IRG_thinned.laz X-9000Y49000-IRG_thinned.laz X-9000Y49500-IRG_thinned.laz X-9000Y50000-IRG_thinned.laz X-9000Y50500-IRG_thinned.laz X-9000Y51000-IRG_thinned.laz X-9500Y43000-IRG_thinned.laz X-9500Y43500-IRG_thinned.laz X-9500Y44000-IRG_thinned.laz X-9500Y44500-IRG_thinned.laz X-9500Y45000-IRG_thinned.laz X-9500Y45500-IRG_thinned.laz X-9500Y46000-IRG_thinned.laz X-9500Y46500-IRG_thinned.laz X-9500Y47000-IRG_thinned.laz X-9500Y47500-IRG_thinned.laz X-9500Y48000-IRG_thinned.laz X-9500Y48500-IRG_thinned.laz X-9500Y49000-IRG_thinned.laz X-9500Y49500-IRG_thinned.laz X-9500Y50000-IRG_thinned.laz X-9500Y50500-IRG_thinned.laz X0Y41500-IRG_thinned.laz X0Y42000-IRG_thinned.laz X0Y42500-IRG_thinned.laz X0Y43000-IRG_thinned.laz X0Y43500-IRG_thinned.laz X0Y44000-IRG_thinned.laz X0Y44500-IRG_thinned.laz X0Y45000-IRG_thinned.laz X0Y45500-IRG_thinned.laz X0Y46000-IRG_thinned.laz X0Y46500-IRG_thinned.laz X0Y47000-IRG_thinned.laz X0Y47500-IRG_thinned.laz X0Y48000-IRG_thinned.laz X0Y48500-IRG_thinned.laz X0Y49000-IRG_thinned.laz X0Y49500-IRG_thinned.laz X0Y50000-IRG_thinned.laz X0Y50500-IRG_thinned.laz X0Y51000-IRG_thinned.laz X0Y51500-IRG_thinned.laz X0Y52000-IRG_thinned.laz X0Y52500-IRG_thinned.laz X0Y53000-IRG_thinned.laz X0Y53500-IRG_thinned.laz X0Y54000-IRG_thinned.laz X0Y54500-IRG_thinned.laz X1000Y41500-IRG_thinned.laz X1000Y42000-IRG_thinned.laz X1000Y42500-IRG_thinned.laz X1000Y43000-IRG_thinned.laz X1000Y43500-IRG_thinned.laz X1000Y44000-IRG_thinned.laz X1000Y44500-IRG_thinned.laz X1000Y45000-IRG_thinned.laz X1000Y45500-IRG_thinned.laz X1000Y46000-IRG_thinned.laz X1000Y46500-IRG_thinned.laz X1000Y47000-IRG_thinned.laz X1000Y47500-IRG_thinned.laz X1000Y48000-IRG_thinned.laz X1000Y48500-IRG_thinned.laz X1000Y49000-IRG_thinned.laz X1000Y49500-IRG_thinned.laz X1000Y50000-IRG_thinned.laz X1000Y50500-IRG_thinned.laz X1000Y51000-IRG_thinned.laz X1000Y51500-IRG_thinned.laz X1000Y52000-IRG_thinned.laz X1000Y52500-IRG_thinned.laz X1000Y53000-IRG_thinned.laz X1000Y53500-IRG_thinned.laz X1500Y41500-IRG_thinned.laz X1500Y42000-IRG_thinned.laz X1500Y42500-IRG_thinned.laz X1500Y43000-IRG_thinned.laz X1500Y43500-IRG_thinned.laz X1500Y44000-IRG_thinned.laz X1500Y44500-IRG_thinned.laz X1500Y45000-IRG_thinned.laz X1500Y45500-IRG_thinned.laz X1500Y46000-IRG_thinned.laz X1500Y46500-IRG_thinned.laz X1500Y47000-IRG_thinned.laz X1500Y47500-IRG_thinned.laz X1500Y48000-IRG_thinned.laz X1500Y48500-IRG_thinned.laz X1500Y49000-IRG_thinned.laz X1500Y49500-IRG_thinned.laz X1500Y50000-IRG_thinned.laz X1500Y50500-IRG_thinned.laz X1500Y51000-IRG_thinned.laz X1500Y51500-IRG_thinned.laz X1500Y52000-IRG_thinned.laz X1500Y52500-IRG_thinned.laz X1500Y53000-IRG_thinned.laz X2000Y41500-IRG_thinned.laz X2000Y42000-IRG_thinned.laz X2000Y42500-IRG_thinned.laz X2000Y43000-IRG_thinned.laz X2000Y43500-IRG_thinned.laz X2000Y44000-IRG_thinned.laz X2000Y44500-IRG_thinned.laz X2000Y45000-IRG_thinned.laz X2000Y45500-IRG_thinned.laz X2000Y46000-IRG_thinned.laz X2000Y46500-IRG_thinned.laz X2000Y47000-IRG_thinned.laz X2000Y47500-IRG_thinned.laz X2000Y48000-IRG_thinned.laz X2000Y48500-IRG_thinned.laz X2000Y49000-IRG_thinned.laz X2000Y49500-IRG_thinned.laz X2000Y50000-IRG_thinned.laz X2000Y50500-IRG_thinned.laz X2000Y51000-IRG_thinned.laz X2000Y51500-IRG_thinned.laz X2000Y52000-IRG_thinned.laz X2000Y52500-IRG_thinned.laz X2500Y41500-IRG_thinned.laz X2500Y42000-IRG_thinned.laz X2500Y42500-IRG_thinned.laz X2500Y43000-IRG_thinned.laz X2500Y43500-IRG_thinned.laz X2500Y44000-IRG_thinned.laz X2500Y44500-IRG_thinned.laz X2500Y45000-IRG_thinned.laz X2500Y45500-IRG_thinned.laz X2500Y46000-IRG_thinned.laz X2500Y46500-IRG_thinned.laz X2500Y47000-IRG_thinned.laz X2500Y47500-IRG_thinned.laz X2500Y48000-IRG_thinned.laz X2500Y48500-IRG_thinned.laz X2500Y49000-IRG_thinned.laz X2500Y49500-IRG_thinned.laz X2500Y50000-IRG_thinned.laz X2500Y50500-IRG_thinned.laz X2500Y51000-IRG_thinned.laz X2500Y51500-IRG_thinned.laz X3000Y41500-IRG_thinned.laz X3000Y42000-IRG_thinned.laz X3000Y42500-IRG_thinned.laz X3000Y43000-IRG_thinned.laz X3000Y43500-IRG_thinned.laz X3000Y44000-IRG_thinned.laz X3000Y44500-IRG_thinned.laz X3000Y45000-IRG_thinned.laz X3000Y45500-IRG_thinned.laz X3000Y46000-IRG_thinned.laz X3000Y46500-IRG_thinned.laz X3000Y47000-IRG_thinned.laz X3000Y47500-IRG_thinned.laz X3000Y48000-IRG_thinned.laz X3000Y48500-IRG_thinned.laz X3000Y49000-IRG_thinned.laz X3000Y49500-IRG_thinned.laz X3000Y50000-IRG_thinned.laz X3000Y50500-IRG_thinned.laz X3500Y42000-IRG_thinned.laz X3500Y42500-IRG_thinned.laz X3500Y43000-IRG_thinned.laz X3500Y43500-IRG_thinned.laz X3500Y44000-IRG_thinned.laz X3500Y44500-IRG_thinned.laz X3500Y45000-IRG_thinned.laz X3500Y45500-IRG_thinned.laz X3500Y46000-IRG_thinned.laz X3500Y46500-IRG_thinned.laz X3500Y47000-IRG_thinned.laz X3500Y47500-IRG_thinned.laz X3500Y48000-IRG_thinned.laz X3500Y48500-IRG_thinned.laz X3500Y49000-IRG_thinned.laz X3500Y49500-IRG_thinned.laz X3500Y50000-IRG_thinned.laz X3500Y50500-IRG_thinned.laz X4000Y42000-IRG_thinned.laz X4000Y42500-IRG_thinned.laz X4000Y43000-IRG_thinned.laz X4000Y43500-IRG_thinned.laz X4000Y44000-IRG_thinned.laz X4000Y44500-IRG_thinned.laz X4000Y45000-IRG_thinned.laz X4000Y45500-IRG_thinned.laz X4000Y46000-IRG_thinned.laz X4000Y46500-IRG_thinned.laz X4000Y47000-IRG_thinned.laz X4000Y47500-IRG_thinned.laz X4000Y48000-IRG_thinned.laz X4000Y48500-IRG_thinned.laz X4500Y43000-IRG_thinned.laz X4500Y43500-IRG_thinned.laz X4500Y44000-IRG_thinned.laz X4500Y44500-IRG_thinned.laz X4500Y45000-IRG_thinned.laz X4500Y45500-IRG_thinned.laz X4500Y46000-IRG_thinned.laz X4500Y46500-IRG_thinned.laz X4500Y47000-IRG_thinned.laz X4500Y47500-IRG_thinned.laz X4500Y48000-IRG_thinned.laz X4500Y48500-IRG_thinned.laz X5000Y43000-IRG_thinned.laz X5000Y43500-IRG_thinned.laz X5000Y44000-IRG_thinned.laz X5000Y44500-IRG_thinned.laz X5000Y45000-IRG_thinned.laz X5000Y45500-IRG_thinned.laz X5000Y46000-IRG_thinned.laz X5000Y46500-IRG_thinned.laz X5000Y47000-IRG_thinned.laz X5000Y47500-IRG_thinned.laz X5000Y48000-IRG_thinned.laz X500Y41000-IRG_thinned.laz X500Y41500-IRG_thinned.laz X500Y42000-IRG_thinned.laz X500Y42500-IRG_thinned.laz X500Y43000-IRG_thinned.laz X500Y43500-IRG_thinned.laz X500Y44000-IRG_thinned.laz X500Y44500-IRG_thinned.laz X500Y45000-IRG_thinned.laz X500Y45500-IRG_thinned.laz X500Y46000-IRG_thinned.laz X500Y46500-IRG_thinned.laz X500Y47000-IRG_thinned.laz X500Y47500-IRG_thinned.laz X500Y48000-IRG_thinned.laz X500Y48500-IRG_thinned.laz X500Y49000-IRG_thinned.laz X500Y49500-IRG_thinned.laz X500Y50000-IRG_thinned.laz X500Y50500-IRG_thinned.laz X500Y51000-IRG_thinned.laz X500Y51500-IRG_thinned.laz X500Y52000-IRG_thinned.laz X500Y52500-IRG_thinned.laz X500Y53000-IRG_thinned.laz X500Y53500-IRG_thinned.laz X500Y54000-IRG_thinned.laz X500Y54500-IRG_thinned.laz X5500Y43000-IRG_thinned.laz X5500Y43500-IRG_thinned.laz X5500Y44000-IRG_thinned.laz X5500Y44500-IRG_thinned.laz X5500Y45000-IRG_thinned.laz X5500Y45500-IRG_thinned.laz X5500Y46000-IRG_thinned.laz X5500Y46500-IRG_thinned.laz X5500Y47000-IRG_thinned.laz X5500Y47500-IRG_thinned.laz X5500Y48000-IRG_thinned.laz X6000Y43500-IRG_thinned.laz X6000Y44000-IRG_thinned.laz X6000Y44500-IRG_thinned.laz X6000Y45000-IRG_thinned.laz X6000Y45500-IRG_thinned.laz X6000Y46000-IRG_thinned.laz X6000Y46500-IRG_thinned.laz X6000Y47500-IRG_thinned.laz X6500Y43500-IRG_thinned.laz X6500Y44000-IRG_thinned.laz X6500Y45000-IRG_thinned.laz X6500Y45500-IRG_thinned.laz X6500Y46000-IRG_thinned.laz X7000Y44000-IRG_thinned.laz X7000Y44500-IRG_thinned.laz -o SL_lidar_merged.laz\n",
      "Merging completed! Output file: D:\\Geospatial_Pessoal\\DadosLiDAR_Serras_Lousa\\SL_lidar_merged.laz\n"
     ]
    }
   ],
   "source": [
    "output_file = fr\"{hdd_dir}\\DadosLiDAR_Serras_Lousa\\SL_lidar_merged.laz\"\n",
    "\n",
    "\n",
    "af.find_and_merge_thinned_files([input_directory], output_file)"
   ]
  },
  {
   "cell_type": "markdown",
   "metadata": {},
   "source": [
    "### Convert .laz to .copc.laz to skip QGIS buffering\n",
    "\n",
    "* These files offer better performance in terms of accessing and processing data compared to .laz or .las , especially when only a subset of the data is needed"
   ]
  },
  {
   "cell_type": "code",
   "execution_count": 5,
   "metadata": {},
   "outputs": [
    {
     "name": "stdout",
     "output_type": "stream",
     "text": [
      "Error during conversion: 0.0004 0.0017 0.0069 0.0276 0.1088 0.3930 0.0000 \n",
      "WARNING: GeographicTypeGeoKey: look-up for 4258 not implemented\n",
      "[0%] Processed 1.0 million points | LAZ chunks written: 0\n",
      "[1%] Processed 2.0 million points | LAZ chunks written: 0\n",
      "[1%] Processed 3.0 million points | LAZ chunks written: 0\n",
      "[1%] Processed 4.0 million points | LAZ chunks written: 1\n",
      "[2%] Processed 5.0 million points | LAZ chunks written: 1\n",
      "[2%] Processed 6.0 million points | LAZ chunks written: 1\n",
      "[2%] Processed 7.0 million points | LAZ chunks written: 1\n",
      "[3%] Processed 8.0 million points | LAZ chunks written: 1\n",
      "[3%] Processed 9.0 million points | LAZ chunks written: 1\n",
      "[4%] Processed 10.0 million points | LAZ chunks written: 1\n",
      "[4%] Processed 11.0 million points | LAZ chunks written: 8\n",
      "[4%] Processed 12.0 million points | LAZ chunks written: 17\n",
      "[5%] Processed 13.0 million points | LAZ chunks written: 24\n",
      "[5%] Processed 14.0 million points | LAZ chunks written: 42\n",
      "[6%] Processed 15.0 million points | LAZ chunks written: 67\n",
      "[6%] Processed 16.0 million points | LAZ chunks written: 90\n",
      "[7%] Processed 17.0 million points | LAZ chunks written: 117\n",
      "[7%] Processed 18.0 million points | LAZ chunks written: 128\n",
      "[8%] Processed 19.0 million points | LAZ chunks written: 141\n",
      "[8%] Processed 20.0 million points | LAZ chunks written: 168\n",
      "[9%] Processed 21.0 million points | LAZ chunks written: 190\n",
      "[10%] Processed 22.0 million points | LAZ chunks written: 210\n",
      "[10%] Processed 23.0 million points | LAZ chunks written: 225\n",
      "[11%] Processed 24.0 million points | LAZ chunks written: 249\n",
      "[11%] Processed 25.0 million points | LAZ chunks written: 269\n",
      "[12%] Processed 26.0 million points | LAZ chunks written: 294\n",
      "[12%] Processed 27.0 million points | LAZ chunks written: 326\n",
      "[13%] Processed 28.0 million points | LAZ chunks written: 333\n",
      "[13%] Processed 29.0 million points | LAZ chunks written: 344\n",
      "[14%] Processed 30.0 million points | LAZ chunks written: 349\n",
      "[14%] Processed 31.0 million points | LAZ chunks written: 355\n",
      "[15%] Processed 32.0 million points | LAZ chunks written: 364\n",
      "[15%] Processed 33.0 million points | LAZ chunks written: 372\n",
      "[16%] Processed 34.0 million points | LAZ chunks written: 392\n",
      "[16%] Processed 35.0 million points | LAZ chunks written: 413\n",
      "[17%] Processed 36.0 million points | LAZ chunks written: 431\n",
      "[17%] Processed 37.0 million points | LAZ chunks written: 450\n",
      "[18%] Processed 38.0 million points | LAZ chunks written: 464\n",
      "[18%] Processed 39.0 million points | LAZ chunks written: 486\n",
      "[19%] Processed 40.0 million points | LAZ chunks written: 501\n",
      "[19%] Processed 41.0 million points | LAZ chunks written: 520\n",
      "[20%] Processed 42.0 million points | LAZ chunks written: 550\n",
      "[20%] Processed 43.0 million points | LAZ chunks written: 564\n",
      "[21%] Processed 44.0 million points | LAZ chunks written: 576\n",
      "[21%] Processed 45.0 million points | LAZ chunks written: 584\n",
      "[22%] Processed 46.0 million points | LAZ chunks written: 601\n",
      "[23%] Processed 47.0 million points | LAZ chunks written: 612\n",
      "[23%] Processed 48.0 million points | LAZ chunks written: 625\n",
      "[24%] Processed 49.0 million points | LAZ chunks written: 653\n",
      "[24%] Processed 50.0 million points | LAZ chunks written: 681\n",
      "[25%] Processed 51.0 million points | LAZ chunks written: 702\n",
      "[25%] Processed 52.0 million points | LAZ chunks written: 722\n",
      "[26%] Processed 53.0 million points | LAZ chunks written: 747\n",
      "[27%] Processed 54.0 million points | LAZ chunks written: 766\n",
      "[27%] Processed 55.0 million points | LAZ chunks written: 781\n",
      "[28%] Processed 56.0 million points | LAZ chunks written: 804\n",
      "[28%] Processed 57.0 million points | LAZ chunks written: 817\n",
      "[29%] Processed 58.0 million points | LAZ chunks written: 826\n",
      "[29%] Processed 59.0 million points | LAZ chunks written: 832\n",
      "[29%] Processed 60.0 million points | LAZ chunks written: 843\n",
      "[30%] Processed 61.0 million points | LAZ chunks written: 852\n",
      "[30%] Processed 62.0 million points | LAZ chunks written: 869\n",
      "[31%] Processed 63.0 million points | LAZ chunks written: 891\n",
      "[31%] Processed 64.0 million points | LAZ chunks written: 912\n",
      "[32%] Processed 65.0 million points | LAZ chunks written: 938\n",
      "[33%] Processed 66.0 million points | LAZ chunks written: 967\n",
      "[33%] Processed 67.0 million points | LAZ chunks written: 989\n",
      "[34%] Processed 68.0 million points | LAZ chunks written: 1015\n",
      "[34%] Processed 69.0 million points | LAZ chunks written: 1022\n",
      "[35%] Processed 70.0 million points | LAZ chunks written: 1032\n",
      "[35%] Processed 71.0 million points | LAZ chunks written: 1043\n",
      "[36%] Processed 72.0 million points | LAZ chunks written: 1056\n",
      "[36%] Processed 73.0 million points | LAZ chunks written: 1067\n",
      "[37%] Processed 74.0 million points | LAZ chunks written: 1076\n",
      "[38%] Processed 75.0 million points | LAZ chunks written: 1100\n",
      "[38%] Processed 76.0 million points | LAZ chunks written: 1124\n",
      "[39%] Processed 77.0 million points | LAZ chunks written: 1143\n",
      "[39%] Processed 78.0 million points | LAZ chunks written: 1171\n",
      "[40%] Processed 79.0 million points | LAZ chunks written: 1194\n",
      "[40%] Processed 80.0 million points | LAZ chunks written: 1211\n",
      "[41%] Processed 81.0 million points | LAZ chunks written: 1232\n",
      "[42%] Processed 82.0 million points | LAZ chunks written: 1243\n",
      "[42%] Processed 83.0 million points | LAZ chunks written: 1256\n",
      "[43%] Processed 84.0 million points | LAZ chunks written: 1265\n",
      "[43%] Processed 85.0 million points | LAZ chunks written: 1279\n",
      "[44%] Processed 86.0 million points | LAZ chunks written: 1292\n",
      "[44%] Processed 87.0 million points | LAZ chunks written: 1304\n",
      "[44%] Processed 88.0 million points | LAZ chunks written: 1316\n",
      "[45%] Processed 89.0 million points | LAZ chunks written: 1326\n",
      "[45%] Processed 90.0 million points | LAZ chunks written: 1334\n",
      "[46%] Processed 91.0 million points | LAZ chunks written: 1342\n",
      "[46%] Processed 92.0 million points | LAZ chunks written: 1351\n",
      "[47%] Processed 93.0 million points | LAZ chunks written: 1357\n",
      "[47%] Processed 94.0 million points | LAZ chunks written: 1377\n",
      "[48%] Processed 95.0 million points | LAZ chunks written: 1397\n",
      "[48%] Processed 96.0 million points | LAZ chunks written: 1419\n",
      "[49%] Processed 97.0 million points | LAZ chunks written: 1436\n",
      "[49%] Processed 98.0 million points | LAZ chunks written: 1462\n",
      "[50%] Processed 99.0 million points | LAZ chunks written: 1480\n",
      "[51%] Processed 100.0 million points | LAZ chunks written: 1498\n",
      "[51%] Processed 101.0 million points | LAZ chunks written: 1513\n",
      "[52%] Processed 102.0 million points | LAZ chunks written: 1532\n",
      "[52%] Processed 103.0 million points | LAZ chunks written: 1549\n",
      "[53%] Processed 104.0 million points | LAZ chunks written: 1567\n",
      "[53%] Processed 105.0 million points | LAZ chunks written: 1580\n",
      "[54%] Processed 106.0 million points | LAZ chunks written: 1602\n",
      "[54%] Processed 107.0 million points | LAZ chunks written: 1625\n",
      "[55%] Processed 108.0 million points | LAZ chunks written: 1650\n",
      "[55%] Processed 109.0 million points | LAZ chunks written: 1670\n",
      "[56%] Processed 110.0 million points | LAZ chunks written: 1689\n",
      "[57%] Processed 111.0 million points | LAZ chunks written: 1707\n",
      "[57%] Processed 112.0 million points | LAZ chunks written: 1729\n",
      "[58%] Processed 113.0 million points | LAZ chunks written: 1738\n",
      "[58%] Processed 114.0 million points | LAZ chunks written: 1748\n",
      "[58%] Processed 115.0 million points | LAZ chunks written: 1756\n",
      "[59%] Processed 116.0 million points | LAZ chunks written: 1764\n",
      "[59%] Processed 117.0 million points | LAZ chunks written: 1777\n",
      "[60%] Processed 118.0 million points | LAZ chunks written: 1802\n",
      "[61%] Processed 119.0 million points | LAZ chunks written: 1827\n",
      "[61%] Processed 120.0 million points | LAZ chunks written: 1858\n",
      "[62%] Processed 121.0 million points | LAZ chunks written: 1888\n",
      "[62%] Processed 122.0 million points | LAZ chunks written: 1924\n",
      "[63%] Processed 123.0 million points | LAZ chunks written: 1937\n",
      "[63%] Processed 124.0 million points | LAZ chunks written: 1950\n",
      "[64%] Processed 125.0 million points | LAZ chunks written: 1966\n",
      "[64%] Processed 126.0 million points | LAZ chunks written: 1977\n",
      "[65%] Processed 127.0 million points | LAZ chunks written: 2001\n",
      "[66%] Processed 128.0 million points | LAZ chunks written: 2021\n",
      "[66%] Processed 129.0 million points | LAZ chunks written: 2051\n",
      "[67%] Processed 130.0 million points | LAZ chunks written: 2078\n",
      "[68%] Processed 131.0 million points | LAZ chunks written: 2114\n",
      "[68%] Processed 132.0 million points | LAZ chunks written: 2143\n",
      "[69%] Processed 133.0 million points | LAZ chunks written: 2193\n",
      "[70%] Processed 134.0 million points | LAZ chunks written: 2228\n",
      "[71%] Processed 135.0 million points | LAZ chunks written: 2250\n",
      "[71%] Processed 136.0 million points | LAZ chunks written: 2272\n",
      "[72%] Processed 137.0 million points | LAZ chunks written: 2289\n",
      "[72%] Processed 138.0 million points | LAZ chunks written: 2304\n",
      "[73%] Processed 139.0 million points | LAZ chunks written: 2323\n",
      "[73%] Processed 140.0 million points | LAZ chunks written: 2335\n",
      "[74%] Processed 141.0 million points | LAZ chunks written: 2345\n",
      "[74%] Processed 142.0 million points | LAZ chunks written: 2345\n",
      "[74%] Processed 143.0 million points | LAZ chunks written: 2345\n",
      "[75%] Processed 144.0 million points | LAZ chunks written: 2345\n",
      "[75%] Processed 145.0 million points | LAZ chunks written: 2345\n",
      "[75%] Processed 146.0 million points | LAZ chunks written: 2345\n",
      "[76%] Processed 147.0 million points | LAZ chunks written: 2354\n",
      "[76%] Processed 148.0 million points | LAZ chunks written: 2363\n",
      "[77%] Processed 149.0 million points | LAZ chunks written: 2372\n",
      "[77%] Processed 150.0 million points | LAZ chunks written: 2378\n",
      "[77%] Processed 151.0 million points | LAZ chunks written: 2388\n",
      "[78%] Processed 152.0 million points | LAZ chunks written: 2404\n",
      "[78%] Processed 153.0 million points | LAZ chunks written: 2419\n",
      "[79%] Processed 154.0 million points | LAZ chunks written: 2434\n",
      "[79%] Processed 155.0 million points | LAZ chunks written: 2445\n",
      "[80%] Processed 156.0 million points | LAZ chunks written: 2461\n",
      "[80%] Processed 157.0 million points | LAZ chunks written: 2497\n",
      "[81%] Processed 158.0 million points | LAZ chunks written: 2522\n",
      "[82%] Processed 159.0 million points | LAZ chunks written: 2548\n",
      "[82%] Processed 160.0 million points | LAZ chunks written: 2569\n",
      "[83%] Processed 161.0 million points | LAZ chunks written: 2593\n",
      "[83%] Processed 162.0 million points | LAZ chunks written: 2624\n",
      "[84%] Processed 163.0 million points | LAZ chunks written: 2634\n",
      "[84%] Processed 164.0 million points | LAZ chunks written: 2642\n",
      "[85%] Processed 165.0 million points | LAZ chunks written: 2648\n",
      "[85%] Processed 166.0 million points | LAZ chunks written: 2672\n",
      "[86%] Processed 167.0 million points | LAZ chunks written: 2695\n",
      "[86%] Processed 168.0 million points | LAZ chunks written: 2723\n",
      "[87%] Processed 169.0 million points | LAZ chunks written: 2740\n",
      "[88%] Processed 170.0 million points | LAZ chunks written: 2797\n",
      "[88%] Processed 171.0 million points | LAZ chunks written: 2808\n",
      "[89%] Processed 172.0 million points | LAZ chunks written: 2821\n",
      "[89%] Processed 173.0 million points | LAZ chunks written: 2844\n",
      "[90%] Processed 174.0 million points | LAZ chunks written: 2872\n",
      "[91%] Processed 175.0 million points | LAZ chunks written: 2899\n",
      "[91%] Processed 176.0 million points | LAZ chunks written: 2932\n",
      "[92%] Processed 177.0 million points | LAZ chunks written: 2957\n",
      "[92%] Processed 178.0 million points | LAZ chunks written: 2976\n",
      "[93%] Processed 179.0 million points | LAZ chunks written: 3026\n",
      "[94%] Processed 180.0 million points | LAZ chunks written: 3064\n",
      "[95%] Processed 181.0 million points | LAZ chunks written: 3100\n",
      "[95%] Processed 182.0 million points | LAZ chunks written: 3132\n",
      "[96%] Processed 183.0 million points | LAZ chunks written: 3179\n",
      "[97%] Processed 184.0 million points | LAZ chunks written: 3217\n",
      "[98%] Processed 185.0 million points | LAZ chunks written: 3265\n",
      "[98%] Processed 186.0 million points | LAZ chunks written: 3275\n",
      "[99%] Processed 187.0 million points | LAZ chunks written: 3289\n",
      "[99%] Processed 188.0 million points | LAZ chunks written: 3308\n",
      "[100%] Processed 189.0 million points | LAZ chunks written: 3409\n",
      "\n"
     ]
    }
   ],
   "source": [
    "af.convert_laz_to_copc(output_file)"
   ]
  },
  {
   "cell_type": "markdown",
   "metadata": {},
   "source": []
  }
 ],
 "metadata": {
  "kernelspec": {
   "display_name": "geospatial",
   "language": "python",
   "name": "python3"
  },
  "language_info": {
   "codemirror_mode": {
    "name": "ipython",
    "version": 3
   },
   "file_extension": ".py",
   "mimetype": "text/x-python",
   "name": "python",
   "nbconvert_exporter": "python",
   "pygments_lexer": "ipython3",
   "version": "3.11.10"
  }
 },
 "nbformat": 4,
 "nbformat_minor": 2
}
