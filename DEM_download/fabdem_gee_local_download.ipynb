{
 "cells": [
  {
   "cell_type": "code",
   "execution_count": 1,
   "metadata": {},
   "outputs": [
    {
     "data": {
      "text/plain": [
       "<module 'aux_functions' from 'c:\\\\Users\\\\JoaoPereira\\\\Desktop\\\\pygeo\\\\Geospatial-Ops\\\\aux_functions.py'>"
      ]
     },
     "execution_count": 1,
     "metadata": {},
     "output_type": "execute_result"
    }
   ],
   "source": [
    "import ee\n",
    "ee.Authenticate()\n",
    "ee.Initialize()\n",
    "import geemap\n",
    "ee.Initialize()\n",
    "import sys\n",
    "import rioxarray\n",
    "import geopandas as gpd\n",
    "sys.path.append(r\"C:\\Users\\JoaoPereira\\Desktop\\pygeo\\Geospatial-Ops\")\n",
    "import aux_functions as af\n",
    "import importlib\n",
    "importlib.reload(af)"
   ]
  },
  {
   "cell_type": "markdown",
   "metadata": {},
   "source": [
    "# Search by WKT"
   ]
  },
  {
   "cell_type": "code",
   "execution_count": 2,
   "metadata": {},
   "outputs": [
    {
     "data": {
      "text/html": [
       "\n",
       "            <style>\n",
       "                .geemap-dark {\n",
       "                    --jp-widgets-color: white;\n",
       "                    --jp-widgets-label-color: white;\n",
       "                    --jp-ui-font-color1: white;\n",
       "                    --jp-layout-color2: #454545;\n",
       "                    background-color: #383838;\n",
       "                }\n",
       "\n",
       "                .geemap-dark .jupyter-button {\n",
       "                    --jp-layout-color3: #383838;\n",
       "                }\n",
       "\n",
       "                .geemap-colab {\n",
       "                    background-color: var(--colab-primary-surface-color, white);\n",
       "                }\n",
       "\n",
       "                .geemap-colab .jupyter-button {\n",
       "                    --jp-layout-color3: var(--colab-primary-surface-color, white);\n",
       "                }\n",
       "            </style>\n",
       "            "
      ],
      "text/plain": [
       "<IPython.core.display.HTML object>"
      ]
     },
     "metadata": {},
     "output_type": "display_data"
    },
    {
     "data": {
      "text/plain": [
       "[[[-9.549958547993015, 42.28532298469514],\n",
       "  [-9.644998817563106, 39.54941956811506],\n",
       "  [-9.549958547993015, 36.86237642690354],\n",
       "  [-6.096914983741101, 36.86237642690354],\n",
       "  [-6.096914983741101, 42.28532298469514],\n",
       "  [-9.549958547993015, 42.28532298469514]]]"
      ]
     },
     "execution_count": 2,
     "metadata": {},
     "output_type": "execute_result"
    }
   ],
   "source": [
    "# Your rectangle WKT string, use https://geojson.io/ and save as WKT (open in a text editor to copy the coordinates)\n",
    "\n",
    "#WKT\n",
    "wkt_string = \"POLYGON ((-9.691880464871304 42.2103384624466, -9.691880464871304 36.708029231300756, -6.1259015927917915 36.708029231300756, -6.1259015927917915 42.2103384624466, -9.691880464871304 42.2103384624466))\"\n",
    "\n",
    "# Manual conversion from WKT to a list of coordinates for Earth Engine\n",
    "coordinates_str = wkt_string.strip('POLYGON ((').strip('))').split(', ')\n",
    "coordinates = [[float(coord) for coord in point.split(' ')] for point in coordinates_str]\n",
    "\n",
    "ee_geometry = ee.Geometry.Polygon([coordinates])\n",
    "\n",
    "location = ee_geometry.coordinates().getInfo()[::-1]\n",
    "location"
   ]
  },
  {
   "cell_type": "markdown",
   "metadata": {},
   "source": [
    "# Dataset Load"
   ]
  },
  {
   "cell_type": "code",
   "execution_count": 3,
   "metadata": {},
   "outputs": [
    {
     "data": {
      "text/html": [
       "\n",
       "            <style>\n",
       "                .geemap-dark {\n",
       "                    --jp-widgets-color: white;\n",
       "                    --jp-widgets-label-color: white;\n",
       "                    --jp-ui-font-color1: white;\n",
       "                    --jp-layout-color2: #454545;\n",
       "                    background-color: #383838;\n",
       "                }\n",
       "\n",
       "                .geemap-dark .jupyter-button {\n",
       "                    --jp-layout-color3: #383838;\n",
       "                }\n",
       "\n",
       "                .geemap-colab {\n",
       "                    background-color: var(--colab-primary-surface-color, white);\n",
       "                }\n",
       "\n",
       "                .geemap-colab .jupyter-button {\n",
       "                    --jp-layout-color3: var(--colab-primary-surface-color, white);\n",
       "                }\n",
       "            </style>\n",
       "            "
      ],
      "text/plain": [
       "<IPython.core.display.HTML object>"
      ]
     },
     "metadata": {},
     "output_type": "display_data"
    },
    {
     "name": "stdout",
     "output_type": "stream",
     "text": [
      "Band names: ['b1']\n"
     ]
    }
   ],
   "source": [
    "dem = ee.ImageCollection(\"projects/sat-io/open-datasets/FABDEM\").mosaic()\n",
    "\n",
    "# Mask values below 0 meters\n",
    "dem_land = dem.updateMask(dem.gte(0))\n",
    "\n",
    "band_names = dem_land.bandNames().getInfo()\n",
    "print('Band names:', band_names)"
   ]
  },
  {
   "cell_type": "markdown",
   "metadata": {},
   "source": [
    "## Statistics"
   ]
  },
  {
   "cell_type": "code",
   "execution_count": 4,
   "metadata": {},
   "outputs": [
    {
     "data": {
      "text/html": [
       "\n",
       "            <style>\n",
       "                .geemap-dark {\n",
       "                    --jp-widgets-color: white;\n",
       "                    --jp-widgets-label-color: white;\n",
       "                    --jp-ui-font-color1: white;\n",
       "                    --jp-layout-color2: #454545;\n",
       "                    background-color: #383838;\n",
       "                }\n",
       "\n",
       "                .geemap-dark .jupyter-button {\n",
       "                    --jp-layout-color3: #383838;\n",
       "                }\n",
       "\n",
       "                .geemap-colab {\n",
       "                    background-color: var(--colab-primary-surface-color, white);\n",
       "                }\n",
       "\n",
       "                .geemap-colab .jupyter-button {\n",
       "                    --jp-layout-color3: var(--colab-primary-surface-color, white);\n",
       "                }\n",
       "            </style>\n",
       "            "
      ],
      "text/plain": [
       "<IPython.core.display.HTML object>"
      ]
     },
     "metadata": {},
     "output_type": "display_data"
    },
    {
     "name": "stdout",
     "output_type": "stream",
     "text": [
      "{'b1_max': 2116.7900390625, 'b1_min': 0}\n",
      "Min value: 0\n",
      "Max value: 2116.7900390625\n"
     ]
    }
   ],
   "source": [
    "# Assuming there's only one band, typically this is the case with DEMs\n",
    "band_name = band_names[0]\n",
    "\n",
    "# Find minimum and maximum values\n",
    "stats = dem_land.reduceRegion(\n",
    "    reducer=ee.Reducer.minMax(),\n",
    "    geometry=ee_geometry,\n",
    "    scale = 30,\n",
    "    maxPixels=1e13\n",
    ")\n",
    "\n",
    "# Print the stats dictionary to inspect the keys\n",
    "print(stats.getInfo())\n",
    "\n",
    "# Fetch the results using the correct key names\n",
    "min_val_key = f'{band_name}_min'\n",
    "max_val_key = f'{band_name}_max'\n",
    "\n",
    "min_val = stats.getInfo()[min_val_key]\n",
    "max_val = stats.getInfo()[max_val_key]\n",
    "\n",
    "print('Min value:', min_val)\n",
    "print('Max value:', max_val)"
   ]
  },
  {
   "cell_type": "code",
   "execution_count": null,
   "metadata": {},
   "outputs": [],
   "source": [
    "# Parameters for exporting using geemap\n",
    "scale = 30  # Resolution in meters\n",
    "filename = r\"D:\\Geospatial_Pessoal\\FFSM\\Fatores_Condicionantes\\Elevation\\PT_fabdem.tif\" \n",
    "# Set export region from WKT\n",
    "region = ee_geometry  "
   ]
  },
  {
   "cell_type": "code",
   "execution_count": null,
   "metadata": {},
   "outputs": [],
   "source": [
    "## Export DEM locally"
   ]
  },
  {
   "cell_type": "code",
   "execution_count": 6,
   "metadata": {},
   "outputs": [
    {
     "data": {
      "text/html": [
       "\n",
       "            <style>\n",
       "                .geemap-dark {\n",
       "                    --jp-widgets-color: white;\n",
       "                    --jp-widgets-label-color: white;\n",
       "                    --jp-ui-font-color1: white;\n",
       "                    --jp-layout-color2: #454545;\n",
       "                    background-color: #383838;\n",
       "                }\n",
       "\n",
       "                .geemap-dark .jupyter-button {\n",
       "                    --jp-layout-color3: #383838;\n",
       "                }\n",
       "\n",
       "                .geemap-colab {\n",
       "                    background-color: var(--colab-primary-surface-color, white);\n",
       "                }\n",
       "\n",
       "                .geemap-colab .jupyter-button {\n",
       "                    --jp-layout-color3: var(--colab-primary-surface-color, white);\n",
       "                }\n",
       "            </style>\n",
       "            "
      ],
      "text/plain": [
       "<IPython.core.display.HTML object>"
      ]
     },
     "metadata": {},
     "output_type": "display_data"
    }
   ],
   "source": [
    "def split_region(geometry, n):\n",
    "    tiles = []\n",
    "    bounds = geometry.bounds().getInfo()[\"coordinates\"][0]\n",
    "    x_min, y_min = bounds[0]\n",
    "    x_max, y_max = bounds[2]\n",
    "    width = x_max - x_min\n",
    "    height = y_max - y_min\n",
    "    tile_width = width / n\n",
    "    tile_height = height / n\n",
    "    for i in range(n):\n",
    "        for j in range(n):\n",
    "            x1 = x_min + i * tile_width\n",
    "            y1 = y_min + j * tile_height\n",
    "            x2 = x1 + tile_width\n",
    "            y2 = y1 + tile_height\n",
    "            tiles.append(ee.Geometry.Rectangle([x1, y1, x2, y2]))\n",
    "    return tiles\n"
   ]
  },
  {
   "cell_type": "code",
   "execution_count": 7,
   "metadata": {},
   "outputs": [
    {
     "data": {
      "text/html": [
       "\n",
       "            <style>\n",
       "                .geemap-dark {\n",
       "                    --jp-widgets-color: white;\n",
       "                    --jp-widgets-label-color: white;\n",
       "                    --jp-ui-font-color1: white;\n",
       "                    --jp-layout-color2: #454545;\n",
       "                    background-color: #383838;\n",
       "                }\n",
       "\n",
       "                .geemap-dark .jupyter-button {\n",
       "                    --jp-layout-color3: #383838;\n",
       "                }\n",
       "\n",
       "                .geemap-colab {\n",
       "                    background-color: var(--colab-primary-surface-color, white);\n",
       "                }\n",
       "\n",
       "                .geemap-colab .jupyter-button {\n",
       "                    --jp-layout-color3: var(--colab-primary-surface-color, white);\n",
       "                }\n",
       "            </style>\n",
       "            "
      ],
      "text/plain": [
       "<IPython.core.display.HTML object>"
      ]
     },
     "metadata": {},
     "output_type": "display_data"
    },
    {
     "name": "stdout",
     "output_type": "stream",
     "text": [
      "Export task started with task ID: RUYPTVXILEYBPLMV7QPTDE7M\n",
      "Task still running...\n",
      "Task still running...\n",
      "Task still running...\n",
      "Task still running...\n",
      "Task still running...\n",
      "Task still running...\n",
      "Task still running...\n",
      "Task still running...\n",
      "Task still running...\n",
      "Task completed\n"
     ]
    }
   ],
   "source": [
    "# Split the region into 4x4 tiles\n",
    "\n",
    "n_tiles = 6\n",
    "tiles = split_region(ee_geometry, n_tiles)"
   ]
  },
  {
   "cell_type": "code",
   "execution_count": null,
   "metadata": {},
   "outputs": [],
   "source": [
    "for idx, tile in enumerate(tiles):\n",
    "    filename = fr\"D:\\Geospatial_Pessoal\\FFSM\\Fatores_Condicionantes\\Elevation\\PT_fabdem_tile_{idx}.tif\" \n",
    "    geemap.ee_export_image(\n",
    "        dem_land,\n",
    "        filename=filename,\n",
    "        scale=30,\n",
    "        region=tile,\n",
    "        file_per_band=False,\n",
    "        crs=\"EPSG:32629\"\n",
    "    )\n",
    "    print(f'Tile {idx} has been successfully exported as {filename}')"
   ]
  },
  {
   "cell_type": "code",
   "execution_count": null,
   "metadata": {},
   "outputs": [],
   "source": [
    "af.merge_tiffs(input_dir=r\"D:\\Geospatial_Pessoal\\FFSM\\Fatores_Condicionantes\\Elevation\",\n",
    "               output_tif = fr\"D:\\Geospatial_Pessoal\\FFSM\\Fatores_Condicionantes\\Elevation\\PT_fabdem_merged.tif\")"
   ]
  },
  {
   "cell_type": "markdown",
   "metadata": {},
   "source": [
    "## Tile Deletion"
   ]
  },
  {
   "cell_type": "code",
   "execution_count": null,
   "metadata": {},
   "outputs": [],
   "source": [
    "input_dir = r\"D:\\Geospatial_Pessoal\\FFSM\\Fatores_Condicionantes\\Elevation\"\n",
    "\n",
    "input_rasters = [glob.glob(os.path.join(input_dir, f'*_tile_*.{ext}')) for ext in ['tif']]\n",
    "\n",
    "# Flatten the list of lists into a single list\n",
    "input_rasters = sum(input_rasters, [])\n",
    "\n",
    "for raster in input_rasters:\n",
    "    os.remove(raster)\n",
    "    print(f\"Deleted {raster}\")"
   ]
  },
  {
   "cell_type": "markdown",
   "metadata": {},
   "source": [
    "## Clipping"
   ]
  },
  {
   "cell_type": "code",
   "execution_count": null,
   "metadata": {},
   "outputs": [],
   "source": [
    "data = rioxarray.open_rasterio(r\"D:\\Geospatial_Pessoal\\FFSM\\Fatores_Condicionantes\\Elevation\\PT_fabdem_merged.tif\")\n",
    "\n",
    "bounds = gpd.read_file(r\"D:\\Geospatial_Pessoal\\Portugal_Boundaries\\pt_dissolved_geojson_3763.geojson\")"
   ]
  },
  {
   "cell_type": "code",
   "execution_count": null,
   "metadata": {},
   "outputs": [],
   "source": [
    "if bounds.geometry.type.isin(['MultiPolygon']).any():\n",
    "    bounds = bounds.explode(index_parts=False)\n",
    "    print(\"There are multipolygons in this file and they have been exploded into individual polygons.\")\n",
    "else:\n",
    "    print(\"No multipolygons found in this file.\")\n",
    "\n",
    "clipped_fabdem = data.rio.clip(bounds.geometry.tolist(), bounds.crs)\n",
    "\n",
    "clipped_fabdem.rio.to_raster(r\"D:\\Geospatial_Pessoal\\FFSM\\Fatores_Condicionantes\\Elevation\\PT_fabdem_merged_clipped.tif\")"
   ]
  }
 ],
 "metadata": {
  "kernelspec": {
   "display_name": "Python 3",
   "language": "python",
   "name": "python3"
  },
  "language_info": {
   "codemirror_mode": {
    "name": "ipython",
    "version": 3
   },
   "file_extension": ".py",
   "mimetype": "text/x-python",
   "name": "python",
   "nbconvert_exporter": "python",
   "pygments_lexer": "ipython3",
   "version": "3.10.8"
  }
 },
 "nbformat": 4,
 "nbformat_minor": 2
}
