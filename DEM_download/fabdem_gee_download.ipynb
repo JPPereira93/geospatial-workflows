{
 "cells": [
  {
   "cell_type": "code",
   "execution_count": 1,
   "metadata": {},
   "outputs": [
    {
     "data": {
      "text/plain": [
       "<module 'aux_functions' from 'c:\\\\Users\\\\JoaoPereira\\\\Desktop\\\\pygeo\\\\Geospatial-Ops\\\\aux_functions.py'>"
      ]
     },
     "execution_count": 1,
     "metadata": {},
     "output_type": "execute_result"
    }
   ],
   "source": [
    "import ee\n",
    "ee.Authenticate()\n",
    "ee.Initialize()\n",
    "import geemap\n",
    "ee.Initialize()\n",
    "import time\n",
    "import sys\n",
    "sys.path.append(r\"C:\\Users\\JoaoPereira\\Desktop\\pygeo\\Geospatial-Ops\")\n",
    "import aux_functions as af\n",
    "import importlib\n",
    "importlib.reload(af)"
   ]
  },
  {
   "cell_type": "markdown",
   "metadata": {},
   "source": [
    "# Search by WKT"
   ]
  },
  {
   "cell_type": "code",
   "execution_count": 2,
   "metadata": {},
   "outputs": [
    {
     "data": {
      "text/html": [
       "\n",
       "            <style>\n",
       "                .geemap-dark {\n",
       "                    --jp-widgets-color: white;\n",
       "                    --jp-widgets-label-color: white;\n",
       "                    --jp-ui-font-color1: white;\n",
       "                    --jp-layout-color2: #454545;\n",
       "                    background-color: #383838;\n",
       "                }\n",
       "\n",
       "                .geemap-dark .jupyter-button {\n",
       "                    --jp-layout-color3: #383838;\n",
       "                }\n",
       "\n",
       "                .geemap-colab {\n",
       "                    background-color: var(--colab-primary-surface-color, white);\n",
       "                }\n",
       "\n",
       "                .geemap-colab .jupyter-button {\n",
       "                    --jp-layout-color3: var(--colab-primary-surface-color, white);\n",
       "                }\n",
       "            </style>\n",
       "            "
      ],
      "text/plain": [
       "<IPython.core.display.HTML object>"
      ]
     },
     "metadata": {},
     "output_type": "display_data"
    },
    {
     "data": {
      "text/plain": [
       "[[[-9.549958547993015, 42.28532298469514],\n",
       "  [-9.644998817563106, 39.54941956811506],\n",
       "  [-9.549958547993015, 36.86237642690354],\n",
       "  [-6.096914983741101, 36.86237642690354],\n",
       "  [-6.096914983741101, 42.28532298469514],\n",
       "  [-9.549958547993015, 42.28532298469514]]]"
      ]
     },
     "execution_count": 2,
     "metadata": {},
     "output_type": "execute_result"
    }
   ],
   "source": [
    "# Your rectangle WKT string, use https://geojson.io/ and save as WKT (open in a text editor to copy the coordinates)\n",
    "\n",
    "#WKT\n",
    "wkt_string = \"POLYGON ((-9.549958547993015 42.28532298469514, -9.644998817563106 39.54941956811506, -9.549958547993015 36.86237642690354, -6.096914983741101 36.86237642690354, -6.096914983741101 42.28532298469514, -9.549958547993015 42.28532298469514))\"\n",
    "\n",
    "# Manual conversion from WKT to a list of coordinates for Earth Engine\n",
    "coordinates_str = wkt_string.strip('POLYGON ((').strip('))').split(', ')\n",
    "coordinates = [[float(coord) for coord in point.split(' ')] for point in coordinates_str]\n",
    "\n",
    "ee_geometry = ee.Geometry.Polygon([coordinates])\n",
    "\n",
    "location = ee_geometry.coordinates().getInfo()[::-1]\n",
    "location"
   ]
  },
  {
   "cell_type": "markdown",
   "metadata": {},
   "source": [
    "# Dataset Load"
   ]
  },
  {
   "cell_type": "code",
   "execution_count": 3,
   "metadata": {},
   "outputs": [
    {
     "data": {
      "text/html": [
       "\n",
       "            <style>\n",
       "                .geemap-dark {\n",
       "                    --jp-widgets-color: white;\n",
       "                    --jp-widgets-label-color: white;\n",
       "                    --jp-ui-font-color1: white;\n",
       "                    --jp-layout-color2: #454545;\n",
       "                    background-color: #383838;\n",
       "                }\n",
       "\n",
       "                .geemap-dark .jupyter-button {\n",
       "                    --jp-layout-color3: #383838;\n",
       "                }\n",
       "\n",
       "                .geemap-colab {\n",
       "                    background-color: var(--colab-primary-surface-color, white);\n",
       "                }\n",
       "\n",
       "                .geemap-colab .jupyter-button {\n",
       "                    --jp-layout-color3: var(--colab-primary-surface-color, white);\n",
       "                }\n",
       "            </style>\n",
       "            "
      ],
      "text/plain": [
       "<IPython.core.display.HTML object>"
      ]
     },
     "metadata": {},
     "output_type": "display_data"
    },
    {
     "name": "stdout",
     "output_type": "stream",
     "text": [
      "Band names: ['b1']\n"
     ]
    }
   ],
   "source": [
    "dem = ee.ImageCollection(\"projects/sat-io/open-datasets/FABDEM\").mosaic()\n",
    "\n",
    "# Mask values below 0 meters, not creating a binary mask\n",
    "dem_land = dem.updateMask(dem.gte(0))\n",
    "\n",
    "band_names = dem_land.bandNames().getInfo()\n",
    "print('Band names:', band_names)"
   ]
  },
  {
   "cell_type": "code",
   "execution_count": 4,
   "metadata": {},
   "outputs": [
    {
     "data": {
      "text/html": [
       "\n",
       "            <style>\n",
       "                .geemap-dark {\n",
       "                    --jp-widgets-color: white;\n",
       "                    --jp-widgets-label-color: white;\n",
       "                    --jp-ui-font-color1: white;\n",
       "                    --jp-layout-color2: #454545;\n",
       "                    background-color: #383838;\n",
       "                }\n",
       "\n",
       "                .geemap-dark .jupyter-button {\n",
       "                    --jp-layout-color3: #383838;\n",
       "                }\n",
       "\n",
       "                .geemap-colab {\n",
       "                    background-color: var(--colab-primary-surface-color, white);\n",
       "                }\n",
       "\n",
       "                .geemap-colab .jupyter-button {\n",
       "                    --jp-layout-color3: var(--colab-primary-surface-color, white);\n",
       "                }\n",
       "            </style>\n",
       "            "
      ],
      "text/plain": [
       "<IPython.core.display.HTML object>"
      ]
     },
     "metadata": {},
     "output_type": "display_data"
    },
    {
     "name": "stdout",
     "output_type": "stream",
     "text": [
      "{'b1_max': 2116.7900390625, 'b1_min': 0}\n",
      "Min value: 0\n",
      "Max value: 2116.7900390625\n"
     ]
    }
   ],
   "source": [
    "# Assuming there's only one band, typically this is the case with DEMs\n",
    "band_name = band_names[0]\n",
    "\n",
    "# Find minimum and maximum values\n",
    "stats = dem_land.reduceRegion(\n",
    "    reducer=ee.Reducer.minMax(),\n",
    "    geometry=ee_geometry,\n",
    "    scale = 30,\n",
    "    maxPixels=1e13\n",
    ")\n",
    "\n",
    "# Print the stats dictionary to inspect the keys\n",
    "print(stats.getInfo())\n",
    "\n",
    "# Fetch the results using the correct key names\n",
    "min_val_key = f'{band_name}_min'\n",
    "max_val_key = f'{band_name}_max'\n",
    "\n",
    "min_val = stats.getInfo()[min_val_key]\n",
    "max_val = stats.getInfo()[max_val_key]\n",
    "\n",
    "print('Min value:', min_val)\n",
    "print('Max value:', max_val)"
   ]
  },
  {
   "cell_type": "markdown",
   "metadata": {},
   "source": [
    "# Import Geemap for visualization"
   ]
  },
  {
   "cell_type": "code",
   "execution_count": 5,
   "metadata": {},
   "outputs": [
    {
     "data": {
      "text/html": [
       "\n",
       "            <style>\n",
       "                .geemap-dark {\n",
       "                    --jp-widgets-color: white;\n",
       "                    --jp-widgets-label-color: white;\n",
       "                    --jp-ui-font-color1: white;\n",
       "                    --jp-layout-color2: #454545;\n",
       "                    background-color: #383838;\n",
       "                }\n",
       "\n",
       "                .geemap-dark .jupyter-button {\n",
       "                    --jp-layout-color3: #383838;\n",
       "                }\n",
       "\n",
       "                .geemap-colab {\n",
       "                    background-color: var(--colab-primary-surface-color, white);\n",
       "                }\n",
       "\n",
       "                .geemap-colab .jupyter-button {\n",
       "                    --jp-layout-color3: var(--colab-primary-surface-color, white);\n",
       "                }\n",
       "            </style>\n",
       "            "
      ],
      "text/plain": [
       "<IPython.core.display.HTML object>"
      ]
     },
     "metadata": {},
     "output_type": "display_data"
    },
    {
     "data": {
      "application/vnd.jupyter.widget-view+json": {
       "model_id": "6c3deb6aff304eb3b3dc800d71290f9e",
       "version_major": 2,
       "version_minor": 0
      },
      "text/plain": [
       "Map(center=[39.551584683648464, -7.847325591035253], controls=(WidgetControl(options=['position', 'transparent…"
      ]
     },
     "execution_count": 5,
     "metadata": {},
     "output_type": "execute_result"
    }
   ],
   "source": [
    "Map = geemap.Map()\n",
    "\n",
    "# Add Google Satellite as the basemap\n",
    "Map.add_basemap('SATELLITE')\n",
    "\n",
    "Map.addLayer(dem_land, {\n",
    "    'min': min_val,\n",
    "    'max': max_val,\n",
    "    'palette': ['006600', '002200', 'fff700', 'ab7634', 'c4d0ff', 'ffffff']\n",
    "}, 'Elevation (meters)')\n",
    "\n",
    "# Add the WKT outline as a separate layer\n",
    "Map.addLayer(ee_geometry, {'color': 'red'}, 'AOI Outline')\n",
    "\n",
    "Map.centerObject(ee_geometry, 7)  # This represents the zoom level\n",
    "Map"
   ]
  },
  {
   "cell_type": "code",
   "execution_count": 6,
   "metadata": {},
   "outputs": [
    {
     "data": {
      "text/html": [
       "\n",
       "            <style>\n",
       "                .geemap-dark {\n",
       "                    --jp-widgets-color: white;\n",
       "                    --jp-widgets-label-color: white;\n",
       "                    --jp-ui-font-color1: white;\n",
       "                    --jp-layout-color2: #454545;\n",
       "                    background-color: #383838;\n",
       "                }\n",
       "\n",
       "                .geemap-dark .jupyter-button {\n",
       "                    --jp-layout-color3: #383838;\n",
       "                }\n",
       "\n",
       "                .geemap-colab {\n",
       "                    background-color: var(--colab-primary-surface-color, white);\n",
       "                }\n",
       "\n",
       "                .geemap-colab .jupyter-button {\n",
       "                    --jp-layout-color3: var(--colab-primary-surface-color, white);\n",
       "                }\n",
       "            </style>\n",
       "            "
      ],
      "text/plain": [
       "<IPython.core.display.HTML object>"
      ]
     },
     "metadata": {},
     "output_type": "display_data"
    }
   ],
   "source": [
    "# Set the description variable to be used as the tiff name\n",
    "description = 'PT_fabdem_3857'"
   ]
  },
  {
   "cell_type": "code",
   "execution_count": 7,
   "metadata": {},
   "outputs": [
    {
     "data": {
      "text/html": [
       "\n",
       "            <style>\n",
       "                .geemap-dark {\n",
       "                    --jp-widgets-color: white;\n",
       "                    --jp-widgets-label-color: white;\n",
       "                    --jp-ui-font-color1: white;\n",
       "                    --jp-layout-color2: #454545;\n",
       "                    background-color: #383838;\n",
       "                }\n",
       "\n",
       "                .geemap-dark .jupyter-button {\n",
       "                    --jp-layout-color3: #383838;\n",
       "                }\n",
       "\n",
       "                .geemap-colab {\n",
       "                    background-color: var(--colab-primary-surface-color, white);\n",
       "                }\n",
       "\n",
       "                .geemap-colab .jupyter-button {\n",
       "                    --jp-layout-color3: var(--colab-primary-surface-color, white);\n",
       "                }\n",
       "            </style>\n",
       "            "
      ],
      "text/plain": [
       "<IPython.core.display.HTML object>"
      ]
     },
     "metadata": {},
     "output_type": "display_data"
    },
    {
     "name": "stdout",
     "output_type": "stream",
     "text": [
      "Export task started with task ID: RUYPTVXILEYBPLMV7QPTDE7M\n",
      "Task still running...\n",
      "Task still running...\n",
      "Task still running...\n",
      "Task still running...\n",
      "Task still running...\n",
      "Task still running...\n",
      "Task still running...\n",
      "Task still running...\n",
      "Task still running...\n",
      "Task completed\n"
     ]
    }
   ],
   "source": [
    "# Set up export parameters\n",
    "task = ee.batch.Export.image.toDrive(**{\n",
    "    'image': dem_land.clip(ee_geometry),\n",
    "    'description': description,\n",
    "    'scale': 30, # Set the spatial resolution\n",
    "    'region': ee_geometry,\n",
    "    'folder': 'FABDEM_DB',\n",
    "    'fileFormat': 'GeoTIFF',\n",
    "    'crs': 'EPSG:3857',\n",
    "    'maxPixels': 1e13\n",
    "})\n",
    "\n",
    "# Start the export task\n",
    "task.start()\n",
    "\n",
    "# Optional: Check the task status\n",
    "print('Export task started with task ID:', task.id)\n",
    "\n",
    "# Monitor the task until completion\n",
    "while task.active():\n",
    "    print('Task still running...')\n",
    "    time.sleep(60)  \n",
    "\n",
    "print('Task completed')"
   ]
  }
 ],
 "metadata": {
  "kernelspec": {
   "display_name": "Python 3",
   "language": "python",
   "name": "python3"
  },
  "language_info": {
   "codemirror_mode": {
    "name": "ipython",
    "version": 3
   },
   "file_extension": ".py",
   "mimetype": "text/x-python",
   "name": "python",
   "nbconvert_exporter": "python",
   "pygments_lexer": "ipython3",
   "version": "3.10.8"
  }
 },
 "nbformat": 4,
 "nbformat_minor": 2
}
